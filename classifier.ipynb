{
  "nbformat": 4,
  "nbformat_minor": 0,
  "metadata": {
    "colab": {
      "name": "classifier.ipynb",
      "provenance": [],
      "include_colab_link": true
    },
    "kernelspec": {
      "name": "python3",
      "display_name": "Python 3"
    },
    "accelerator": "TPU"
  },
  "cells": [
    {
      "cell_type": "markdown",
      "metadata": {
        "id": "view-in-github",
        "colab_type": "text"
      },
      "source": [
        "<a href=\"https://colab.research.google.com/github/rkj26/textClassifier/blob/master/classifier.ipynb\" target=\"_parent\"><img src=\"https://colab.research.google.com/assets/colab-badge.svg\" alt=\"Open In Colab\"/></a>"
      ]
    },
    {
      "cell_type": "code",
      "metadata": {
        "id": "59Pvj8SvCSzW",
        "colab_type": "code",
        "colab": {}
      },
      "source": [
        "%%capture\n",
        "!apt-get update # to update ubuntu to correctly run apt install\n",
        "!apt install chromium-chromedriver\n",
        "!cp /usr/lib/chromium-browser/chromedriver /usr/bin\n",
        "import sys\n",
        "sys.path.insert(0,'/usr/lib/chromium-browser/chromedriver')\n",
        "!pip install selenium"
      ],
      "execution_count": 0,
      "outputs": []
    },
    {
      "cell_type": "code",
      "metadata": {
        "id": "lSnux9wWknaG",
        "colab_type": "code",
        "colab": {}
      },
      "source": [
        "import re\n",
        "from string import ascii_uppercase\n",
        "import pandas as pd\n",
        "import numpy as np\n",
        "from selenium import webdriver\n",
        "from bs4 import BeautifulSoup\n",
        "from selenium.webdriver.common.by import By\n",
        "from selenium.webdriver.support.ui import WebDriverWait\n",
        "from selenium.webdriver.support import expected_conditions as EC\n",
        "import string"
      ],
      "execution_count": 0,
      "outputs": []
    },
    {
      "cell_type": "code",
      "metadata": {
        "id": "6Npk3FsVrC9a",
        "colab_type": "code",
        "colab": {}
      },
      "source": [
        "from random import randint\n",
        "import datetime"
      ],
      "execution_count": 0,
      "outputs": []
    },
    {
      "cell_type": "code",
      "metadata": {
        "id": "ayeOOWVs-H0N",
        "colab_type": "code",
        "colab": {}
      },
      "source": [
        "\n",
        "chrome_options = webdriver.ChromeOptions()\n",
        "chrome_options.add_argument('--headless')\n",
        "chrome_options.add_argument('--no-sandbox')\n",
        "chrome_options.add_argument('--disable-dev-shm-usage')"
      ],
      "execution_count": 0,
      "outputs": []
    },
    {
      "cell_type": "code",
      "metadata": {
        "id": "MmpCxn34bZRF",
        "colab_type": "code",
        "colab": {}
      },
      "source": [
        "ports = []\n",
        "vessels = []\n",
        "companies = []"
      ],
      "execution_count": 0,
      "outputs": []
    },
    {
      "cell_type": "code",
      "metadata": {
        "id": "NTBJp7u2mVda",
        "colab_type": "code",
        "colab": {}
      },
      "source": [
        "temp = 'https://directories.lloydslist.com/port-browse-name/searchid/0/searchchar/'  #This part is link of the search query that is constant so I decided to hardcode it\n",
        "for c in ascii_uppercase:\n",
        "  i = 1\n",
        "  url = temp + c # Go over all the letters in alphabets and store the ports\n",
        "  wd = webdriver.Chrome('chromedriver',options=chrome_options)\n",
        "  while(True):              # As each page has different number of results, using try and except to break the loop when there are no results left to store.\n",
        "    try:\n",
        "      if i == 1:\n",
        "        wd.get(url=url)\n",
        "        souplevel = BeautifulSoup(wd.page_source, 'lxml')\n",
        "      else:\n",
        "        button = wd.find_element_by_link_text(str(i))\n",
        "        button.click()\n",
        "        souplevel = BeautifulSoup(wd.page_source, 'lxml')\n",
        "\n",
        "      for child in souplevel.find_all('a', href=re.compile('port-browse-listing/portid')): #All ports are stored using this template therefore used regular expression to find all <a href = ''></a> tags and stored their text. \n",
        "        if child.text != 'Learn More':\n",
        "          ports.append(child.text) \n",
        "    \n",
        "      i+=1\n",
        "    except:\n",
        "      break"
      ],
      "execution_count": 0,
      "outputs": []
    },
    {
      "cell_type": "code",
      "metadata": {
        "id": "nnYyarQ8A6rJ",
        "colab_type": "code",
        "colab": {}
      },
      "source": [
        "NO_OF_PAGES=25 #Only 25 pages to view therefore hard coded it.\n",
        "wd = webdriver.Chrome('chromedriver',options=chrome_options)\n",
        "url = 'https://www.marinetraffic.com/en/data/?asset_type=vessels&columns=flag,shipname,photo,recognized_next_port,reported_eta,reported_destination,current_port,imo,ship_type,show_on_live_map,time_of_latest_position,lat_of_latest_position,lon_of_latest_position'\n",
        "wd.get(url=url)\n",
        "for i in range(NO_OF_PAGES):\n",
        "  button = WebDriverWait(wd, 20).until(EC.presence_of_element_located((By.XPATH, '//*[@id=\"reporting_ag_grid\"]/div/div[2]/div[3]/div/div/div/div/div[3]/button[2]')))\n",
        "  if i!=0:\n",
        "    button.click()\n",
        "  soup = BeautifulSoup(wd.page_source, 'lxml')\n",
        "  for element in soup.find_all('a', href=re.compile('/en/ais/details/ships/')): #Similar thought as the for port web scrapper.\n",
        "    vessels.append(element.text)"
      ],
      "execution_count": 0,
      "outputs": []
    },
    {
      "cell_type": "code",
      "metadata": {
        "id": "3djI4lRVOtzY",
        "colab_type": "code",
        "colab": {}
      },
      "source": [
        "url = 'https://opencorporates.com/registers'\n",
        "wd = webdriver.Chrome('chromedriver',options=chrome_options)\n",
        "wd.get(url)\n",
        "soup = BeautifulSoup(wd.page_source, 'lxml')\n",
        "numberOfRegistries = int(soup.find(id='DataTables_Table_0_info').text.split(' ')[-2]) #Finding out the number of registries\n",
        "for i in range(numberOfRegistries):\n",
        "  xpath = '//*[@id=\"DataTables_Table_0\"]/tbody/tr['+str(i+1)+']/td[3]/a' #Every row of the table and third column which is a clickable link to the companies.\n",
        "  companiesLink = WebDriverWait(wd, 20).until(EC.presence_of_element_located((By.XPATH, xpath)))\n",
        "  companiesLink.click()\n",
        "  lookup = str(wd.current_url)[26:]+'/'  #Lookup for the directory link which is used for every company in the registry\n",
        "\n",
        "  for j in range(3): \n",
        "    if j != 0:\n",
        "      nextPath = '//*[@id=\"results\"]/div/div[1]/ul/li[8]/a'  #XPath for the next button\n",
        "      nextButton = wd.find_element_by_xpath(nextPath)\n",
        "      nextButton.click()\n",
        "        \n",
        "    subSoup = BeautifulSoup(wd.page_source, 'lxml')\n",
        "    for k in subSoup.find_all('a', href=re.compile(lookup)):\n",
        "      companies.append(k.text)\n",
        "  wd.get(url)"
      ],
      "execution_count": 0,
      "outputs": []
    },
    {
      "cell_type": "code",
      "metadata": {
        "id": "vUuWGjPVQ8h5",
        "colab_type": "code",
        "colab": {}
      },
      "source": [
        "ports = np.array(ports)\n",
        "vessels = np.array(vessels)\n",
        "companies = np.array(companies)"
      ],
      "execution_count": 0,
      "outputs": []
    },
    {
      "cell_type": "code",
      "metadata": {
        "id": "nRk5ihlCucwo",
        "colab_type": "code",
        "outputId": "972a5d4c-5e76-45a9-e1f0-609dda40dca1",
        "colab": {
          "base_uri": "https://localhost:8080/",
          "height": 68
        }
      },
      "source": [
        "print(len(ports))\n",
        "print(len(vessels))\n",
        "print(len(companies))"
      ],
      "execution_count": 10,
      "outputs": [
        {
          "output_type": "stream",
          "text": [
            "6657\n",
            "500\n",
            "12512\n"
          ],
          "name": "stdout"
        }
      ]
    },
    {
      "cell_type": "code",
      "metadata": {
        "id": "kUZPzZt9lv71",
        "colab_type": "code",
        "colab": {}
      },
      "source": [
        "def dateGenerator():\n",
        "  i = randint(0,4)\n",
        "  dd, mm, yyyy = randomGenerator()\n",
        "  correct = check_date(yyyy, mm, dd)\n",
        "  if correct:\n",
        "    date = datetime.datetime(yyyy, mm, dd)\n",
        "    if i==0:\n",
        "      date = \"{0:0=2d}\".format(dd)+'/'+\"{0:0=2d}\".format(mm)+'/'+str(yyyy)\n",
        "    elif i==1:\n",
        "      date = \"{0:0=2d}\".format(mm)+'/'+\"{0:0=2d}\".format(dd)+'/'+str(yyyy)\n",
        "    elif i==2:\n",
        "      date = str(yyyy)+'/'+\"{0:0=2d}\".format(mm)+'/'+\"{0:0=2d}\".format(dd)\n",
        "    elif i==3:\n",
        "      date = date.strftime(\"%b %d %Y\")\n",
        "    elif i==4:\n",
        "      date = date.strftime(\"%B %d %Y\")\n",
        "    return date\n",
        "  else:\n",
        "    return dateGenerator()"
      ],
      "execution_count": 0,
      "outputs": []
    },
    {
      "cell_type": "code",
      "metadata": {
        "id": "KTboWMQRyxB3",
        "colab_type": "code",
        "colab": {}
      },
      "source": [
        "def randomGenerator():\n",
        "  dd = randint(1,31)\n",
        "  mm = randint(1,12)\n",
        "  yyyy = randint(1970, 2020)\n",
        "  return dd, mm, yyyy"
      ],
      "execution_count": 0,
      "outputs": []
    },
    {
      "cell_type": "code",
      "metadata": {
        "id": "v4aGQwoUsZsN",
        "colab_type": "code",
        "colab": {}
      },
      "source": [
        "def check_date(year, month, day):\n",
        "    correctDate = None\n",
        "    try:\n",
        "        newDate = datetime.datetime(year, month, day)\n",
        "        correctDate = True\n",
        "    except ValueError:\n",
        "        correctDate = False\n",
        "    return correctDate"
      ],
      "execution_count": 0,
      "outputs": []
    },
    {
      "cell_type": "code",
      "metadata": {
        "id": "frS5kYbi1Fwy",
        "colab_type": "code",
        "colab": {}
      },
      "source": [
        "dates = []"
      ],
      "execution_count": 0,
      "outputs": []
    },
    {
      "cell_type": "code",
      "metadata": {
        "id": "dZjVZ59oq2pH",
        "colab_type": "code",
        "colab": {}
      },
      "source": [
        "for i in range(500):\n",
        "  dates.append(dateGenerator())"
      ],
      "execution_count": 0,
      "outputs": []
    },
    {
      "cell_type": "code",
      "metadata": {
        "id": "fYeFZ6AhWiVc",
        "colab_type": "code",
        "colab": {}
      },
      "source": [
        "df = pd.DataFrame(columns=['Text', 'Target'])\n",
        "np.random.shuffle(ports)\n",
        "np.random.shuffle(companies)\n",
        "np.random.shuffle(vessels)"
      ],
      "execution_count": 0,
      "outputs": []
    },
    {
      "cell_type": "markdown",
      "metadata": {
        "id": "B7IQcRh4VnqI",
        "colab_type": "text"
      },
      "source": [
        "**Creating a shuffled dataset with 500 entries of port, vessels, companies and dates**"
      ]
    },
    {
      "cell_type": "code",
      "metadata": {
        "id": "M-nGvbWCW3lp",
        "colab_type": "code",
        "outputId": "98060f6e-dfb7-47f6-a93f-6cfbe2d577ad",
        "colab": {
          "base_uri": "https://localhost:8080/",
          "height": 85
        }
      },
      "source": [
        "i = 0 \n",
        "for port in ports:\n",
        "  if i <500:\n",
        "    port = port.translate(str.maketrans(string.punctuation,' '*len(string.punctuation)))\n",
        "    port = port.lower()\n",
        "    port = ' '.join(port.split())\n",
        "    df = df.append({'Text':port, 'Target': 0}, ignore_index=True)\n",
        "    i += 1\n",
        "  else:\n",
        "    i = 0\n",
        "    break\n",
        "print(df.shape)\n",
        "for port in vessels:\n",
        "  if i <500:\n",
        "    port = port.translate(str.maketrans(string.punctuation,' '*len(string.punctuation)))\n",
        "    port = port.lower()\n",
        "    port = ' '.join(port.split())\n",
        "    df = df.append({'Text':port, 'Target': 1}, ignore_index=True)\n",
        "    i += 1\n",
        "  else:\n",
        "    i = 0\n",
        "    break\n",
        "print(df.shape)\n",
        "i = 0\n",
        "for port in companies:\n",
        "  if i<500:\n",
        "    port = str(port)\n",
        "    port = port.translate(str.maketrans(string.punctuation,' '*len(string.punctuation)))\n",
        "    port = port.lower()\n",
        "    port = ' '.join(port.split())\n",
        "    df = df.append({'Text':port, 'Target': 2}, ignore_index=True)\n",
        "    i+=1\n",
        "  else:\n",
        "    i = 0\n",
        "    break\n",
        "print(df.shape)\n",
        "for port in dates:\n",
        "  if i<500:\n",
        "    port = str(port)\n",
        "    port = port.translate(str.maketrans(string.punctuation,' '*len(string.punctuation)))\n",
        "    port = port.lower()\n",
        "    port = ' '.join(port.split())\n",
        "    df = df.append({'Text':port, 'Target': 3}, ignore_index=True)\n",
        "    i+=1\n",
        "  else:\n",
        "    i = 0\n",
        "    break\n",
        "print(df.shape)"
      ],
      "execution_count": 17,
      "outputs": [
        {
          "output_type": "stream",
          "text": [
            "(500, 2)\n",
            "(1000, 2)\n",
            "(1500, 2)\n",
            "(2000, 2)\n"
          ],
          "name": "stdout"
        }
      ]
    },
    {
      "cell_type": "code",
      "metadata": {
        "id": "6WCPlcjUG-jT",
        "colab_type": "code",
        "colab": {}
      },
      "source": [
        "X = df['Text'].values\n",
        "y = df['Target'].values"
      ],
      "execution_count": 0,
      "outputs": []
    },
    {
      "cell_type": "markdown",
      "metadata": {
        "id": "PtlvAeHmVzJX",
        "colab_type": "text"
      },
      "source": [
        "**Splitting dataset to Train: 80% and Test: 20%**"
      ]
    },
    {
      "cell_type": "code",
      "metadata": {
        "id": "Z3Sq60zNG14J",
        "colab_type": "code",
        "colab": {}
      },
      "source": [
        "from sklearn.model_selection import train_test_split\n",
        "X_train, X_test, y_train, y_test = train_test_split(X,y,test_size = 0.2, random_state=42,shuffle=True)"
      ],
      "execution_count": 0,
      "outputs": []
    },
    {
      "cell_type": "code",
      "metadata": {
        "id": "mFPPPVofJHAW",
        "colab_type": "code",
        "colab": {}
      },
      "source": [
        "y_train=y_train.astype('int')\n",
        "y_test=y_test.astype('int')"
      ],
      "execution_count": 0,
      "outputs": []
    },
    {
      "cell_type": "markdown",
      "metadata": {
        "id": "XFE00gYrV6xn",
        "colab_type": "text"
      },
      "source": [
        "**Pipeline for the preprocessing using CountVectorizer and TF-IDF and using an stacked model of Logistic Regression and RandomForest (no hyper-parameter tuning)**"
      ]
    },
    {
      "cell_type": "code",
      "metadata": {
        "id": "5yptiHcTDmI1",
        "colab_type": "code",
        "colab": {
          "base_uri": "https://localhost:8080/",
          "height": 71
        },
        "outputId": "935f56c1-89cf-4d17-9d26-fba713472ed8"
      },
      "source": [
        "from sklearn.linear_model import LogisticRegression\n",
        "from sklearn.ensemble import RandomForestClassifier\n",
        "from sklearn.ensemble import ExtraTreesClassifier\n",
        "from sklearn.svm import SVC\n",
        "from sklearn.ensemble import GradientBoostingClassifier\n",
        "from sklearn.feature_extraction.text import TfidfTransformer\n",
        "from sklearn.feature_extraction.text import CountVectorizer\n",
        "from sklearn.pipeline import Pipeline\n",
        "from mlxtend.classifier import StackingClassifier\n",
        "lr = LogisticRegression()\n",
        "rf = RandomForestClassifier()\n",
        "gradB = GradientBoostingClassifier\n",
        "\n",
        "text_clf = Pipeline([('vect', CountVectorizer(stop_words='english')),\n",
        "                     ('tfidf', TfidfTransformer()),\n",
        "                     ('clf', StackingClassifier(classifiers=[LogisticRegression(), RandomForestClassifier()], \n",
        "                          meta_classifier=GradientBoostingClassifier()))])"
      ],
      "execution_count": 21,
      "outputs": [
        {
          "output_type": "stream",
          "text": [
            "/usr/local/lib/python3.6/dist-packages/sklearn/externals/six.py:31: DeprecationWarning: The module is deprecated in version 0.21 and will be removed in version 0.23 since we've dropped support for Python 2.7. Please rely on the official version of six (https://pypi.org/project/six/).\n",
            "  \"(https://pypi.org/project/six/).\", DeprecationWarning)\n"
          ],
          "name": "stderr"
        }
      ]
    },
    {
      "cell_type": "code",
      "metadata": {
        "id": "4OgI-YHrIjeR",
        "colab_type": "code",
        "outputId": "ba9ecde8-a115-4ee1-e3f2-01fbacc47079",
        "colab": {
          "base_uri": "https://localhost:8080/",
          "height": 632
        }
      },
      "source": [
        "text_clf.fit(X_train, y_train)"
      ],
      "execution_count": 22,
      "outputs": [
        {
          "output_type": "stream",
          "text": [
            "/usr/local/lib/python3.6/dist-packages/sklearn/linear_model/logistic.py:432: FutureWarning: Default solver will be changed to 'lbfgs' in 0.22. Specify a solver to silence this warning.\n",
            "  FutureWarning)\n",
            "/usr/local/lib/python3.6/dist-packages/sklearn/linear_model/logistic.py:469: FutureWarning: Default multi_class will be changed to 'auto' in 0.22. Specify the multi_class option to silence this warning.\n",
            "  \"this warning.\", FutureWarning)\n",
            "/usr/local/lib/python3.6/dist-packages/sklearn/ensemble/forest.py:245: FutureWarning: The default value of n_estimators will change from 10 in version 0.20 to 100 in 0.22.\n",
            "  \"10 in version 0.20 to 100 in 0.22.\", FutureWarning)\n"
          ],
          "name": "stderr"
        },
        {
          "output_type": "execute_result",
          "data": {
            "text/plain": [
              "Pipeline(memory=None,\n",
              "         steps=[('vect',\n",
              "                 CountVectorizer(analyzer='word', binary=False,\n",
              "                                 decode_error='strict',\n",
              "                                 dtype=<class 'numpy.int64'>, encoding='utf-8',\n",
              "                                 input='content', lowercase=True, max_df=1.0,\n",
              "                                 max_features=None, min_df=1,\n",
              "                                 ngram_range=(1, 1), preprocessor=None,\n",
              "                                 stop_words='english', strip_accents=None,\n",
              "                                 token_pattern='(?u)\\\\b\\\\w\\\\w+\\\\b',\n",
              "                                 tokenizer=None, vocabular...\n",
              "                                                                               min_impurity_split=None,\n",
              "                                                                               min_samples_leaf=1,\n",
              "                                                                               min_samples_split=2,\n",
              "                                                                               min_weight_fraction_leaf=0.0,\n",
              "                                                                               n_estimators=100,\n",
              "                                                                               n_iter_no_change=None,\n",
              "                                                                               presort='auto',\n",
              "                                                                               random_state=None,\n",
              "                                                                               subsample=1.0,\n",
              "                                                                               tol=0.0001,\n",
              "                                                                               validation_fraction=0.1,\n",
              "                                                                               verbose=0,\n",
              "                                                                               warm_start=False),\n",
              "                                    store_train_meta_features=False,\n",
              "                                    use_clones=True,\n",
              "                                    use_features_in_secondary=False,\n",
              "                                    use_probas=False, verbose=0))],\n",
              "         verbose=False)"
            ]
          },
          "metadata": {
            "tags": []
          },
          "execution_count": 22
        }
      ]
    },
    {
      "cell_type": "markdown",
      "metadata": {
        "id": "J1LDAq5fWS05",
        "colab_type": "text"
      },
      "source": [
        "**Cross Validation using 5-folds stratified**"
      ]
    },
    {
      "cell_type": "code",
      "metadata": {
        "id": "XhG4gk6UR7mH",
        "colab_type": "code",
        "outputId": "0605f234-95c4-43b0-90af-b4c85428c7b8",
        "colab": {
          "base_uri": "https://localhost:8080/",
          "height": 34
        }
      },
      "source": [
        "from sklearn.model_selection import StratifiedKFold\n",
        "from sklearn.model_selection import cross_val_score\n",
        "kfold = StratifiedKFold(n_splits = 5, shuffle = True, random_state = 42)\n",
        "cv_score = cross_val_score(text_clf, X_train, y_train, n_jobs =-1, scoring='accuracy', cv=kfold)\n",
        "print('Accuracy of the stacked model is: {}'.format(cv_score.mean()*100))"
      ],
      "execution_count": 23,
      "outputs": [
        {
          "output_type": "stream",
          "text": [
            "Accuracy of the stacked model is: 76.43479328426575\n"
          ],
          "name": "stdout"
        }
      ]
    },
    {
      "cell_type": "markdown",
      "metadata": {
        "id": "q9UIBKL8VQ7D",
        "colab_type": "text"
      },
      "source": [
        "**Checking results on actual test set**"
      ]
    },
    {
      "cell_type": "code",
      "metadata": {
        "id": "OJP-b3g9Iq56",
        "colab_type": "code",
        "colab": {}
      },
      "source": [
        "y_pred = text_clf.predict(X_test)"
      ],
      "execution_count": 0,
      "outputs": []
    },
    {
      "cell_type": "code",
      "metadata": {
        "id": "d7jYEYSuJiQ9",
        "colab_type": "code",
        "outputId": "236dcbbc-5df2-4205-c507-62c7f855cfbf",
        "colab": {
          "base_uri": "https://localhost:8080/",
          "height": 269
        }
      },
      "source": [
        "%matplotlib inline\n",
        "import matplotlib.pyplot as plt\n",
        "from sklearn.metrics import confusion_matrix\n",
        "import seaborn as sns\n",
        "cm = confusion_matrix(y_pred=y_pred, y_true=y_test)\n",
        "    \n",
        "cm = cm.astype('float') / cm.sum(axis=1)[:, np.newaxis]\n",
        "    \n",
        "ax=sns.heatmap(cm, annot=True, xticklabels=['Ports','Vessels','Companies','Dates'], yticklabels=['Ports','Vessels','Companies','Dates'], cmap='Blues')\n",
        "ax.set_ylim(4.0, 0)\n",
        "plt.show()"
      ],
      "execution_count": 25,
      "outputs": [
        {
          "output_type": "display_data",
          "data": {
            "image/png": "[encoded data removed]",
            "text/plain": [
              "<Figure size 432x288 with 2 Axes>"
            ]
          },
          "metadata": {
            "tags": []
          }
        }
      ]
    },
    {
      "cell_type": "code",
      "metadata": {
        "id": "bQOWL-ryJp82",
        "colab_type": "code",
        "outputId": "cc50ca6c-e05d-4f48-8697-752a341af20a",
        "colab": {
          "base_uri": "https://localhost:8080/",
          "height": 204
        }
      },
      "source": [
        "from sklearn.metrics import classification_report\n",
        "print(classification_report(y_true= y_test, y_pred = y_pred))"
      ],
      "execution_count": 27,
      "outputs": [
        {
          "output_type": "stream",
          "text": [
            "              precision    recall  f1-score   support\n",
            "\n",
            "           0       0.58      0.98      0.73       104\n",
            "           1       0.98      0.52      0.68        95\n",
            "           2       0.95      0.62      0.75        88\n",
            "           3       0.97      1.00      0.98       113\n",
            "\n",
            "    accuracy                           0.80       400\n",
            "   macro avg       0.87      0.78      0.79       400\n",
            "weighted avg       0.87      0.80      0.79       400\n",
            "\n"
          ],
          "name": "stdout"
        }
      ]
    },
    {
      "cell_type": "code",
      "metadata": {
        "id": "NCdqs7lbqt2q",
        "colab_type": "code",
        "colab": {}
      },
      "source": [
        ""
      ],
      "execution_count": 0,
      "outputs": []
    },
    {
      "cell_type": "markdown",
      "metadata": {
        "id": "hWR-sqSZ_yyL",
        "colab_type": "text"
      },
      "source": [
        "**Deep Learning Implementation** (basic model)"
      ]
    },
    {
      "cell_type": "code",
      "metadata": {
        "id": "CrNZtMZlpy7d",
        "colab_type": "code",
        "colab": {
          "base_uri": "https://localhost:8080/",
          "height": 119
        },
        "outputId": "afe1d584-95a1-4c78-e473-f5a74783c6a3"
      },
      "source": [
        "try:\n",
        "  %tensorflow_version 2.x  # Colab only.\n",
        "except Exception:\n",
        "  pass\n",
        "\n",
        "import tensorflow as tf\n",
        "print(tf.__version__)"
      ],
      "execution_count": 28,
      "outputs": [
        {
          "output_type": "stream",
          "text": [
            "`%tensorflow_version` only switches the major version: `1.x` or `2.x`.\n",
            "You set: `2.x  # Colab only.`. This will be interpreted as: `2.x`.\n",
            "\n",
            "\n",
            "TensorFlow 2.x selected.\n",
            "2.1.0-rc1\n"
          ],
          "name": "stdout"
        }
      ]
    },
    {
      "cell_type": "code",
      "metadata": {
        "id": "6f7svichWezH",
        "colab_type": "code",
        "colab": {}
      },
      "source": [
        "from tensorflow.keras.preprocessing.text import Tokenizer\n",
        "from tensorflow.keras.preprocessing.sequence import pad_sequences"
      ],
      "execution_count": 0,
      "outputs": []
    },
    {
      "cell_type": "code",
      "metadata": {
        "id": "veI0fypIec6I",
        "colab_type": "code",
        "colab": {}
      },
      "source": [
        "vocab_size = 2000\n",
        "embedding_dim = 16\n",
        "max_length = 5\n",
        "trunc_type='post'\n",
        "oov_tok = '<OOV>'"
      ],
      "execution_count": 0,
      "outputs": []
    },
    {
      "cell_type": "code",
      "metadata": {
        "id": "KXmtgCSReyuY",
        "colab_type": "code",
        "colab": {}
      },
      "source": [
        "tokenizer = Tokenizer(num_words = vocab_size, oov_token=oov_tok)\n",
        "tokenizer.fit_on_texts(X_train)\n",
        "word_index = tokenizer.word_index\n",
        "sequences = tokenizer.texts_to_sequences(X_train)\n",
        "padded = pad_sequences(sequences,maxlen=max_length, truncating=trunc_type)"
      ],
      "execution_count": 0,
      "outputs": []
    },
    {
      "cell_type": "code",
      "metadata": {
        "id": "nKrptvAhfNgT",
        "colab_type": "code",
        "colab": {}
      },
      "source": [
        ""
      ],
      "execution_count": 0,
      "outputs": []
    },
    {
      "cell_type": "code",
      "metadata": {
        "id": "YIjUkPfPe62A",
        "colab_type": "code",
        "colab": {}
      },
      "source": [
        "testing_sequences = tokenizer.texts_to_sequences(X_test)\n",
        "testing_padded = pad_sequences(testing_sequences,maxlen=max_length)"
      ],
      "execution_count": 0,
      "outputs": []
    },
    {
      "cell_type": "code",
      "metadata": {
        "id": "iRqLZdvjfALM",
        "colab_type": "code",
        "colab": {
          "base_uri": "https://localhost:8080/",
          "height": 289
        },
        "outputId": "c25cee6e-f437-4111-90a5-3f5a973dafb3"
      },
      "source": [
        "model = tf.keras.Sequential([\n",
        "    tf.keras.layers.Embedding(vocab_size, embedding_dim, input_length=max_length),\n",
        "    tf.keras.layers.Flatten(),\n",
        "    tf.keras.layers.Dense(6, activation='relu'),\n",
        "    tf.keras.layers.Dense(4, activation='softmax')\n",
        "])\n",
        "model.compile(loss='sparse_categorical_crossentropy',optimizer='adam',metrics=['accuracy'])\n",
        "model.summary()"
      ],
      "execution_count": 33,
      "outputs": [
        {
          "output_type": "stream",
          "text": [
            "Model: \"sequential\"\n",
            "_________________________________________________________________\n",
            "Layer (type)                 Output Shape              Param #   \n",
            "=================================================================\n",
            "embedding (Embedding)        (None, 5, 16)             32000     \n",
            "_________________________________________________________________\n",
            "flatten (Flatten)            (None, 80)                0         \n",
            "_________________________________________________________________\n",
            "dense (Dense)                (None, 6)                 486       \n",
            "_________________________________________________________________\n",
            "dense_1 (Dense)              (None, 4)                 28        \n",
            "=================================================================\n",
            "Total params: 32,514\n",
            "Trainable params: 32,514\n",
            "Non-trainable params: 0\n",
            "_________________________________________________________________\n"
          ],
          "name": "stdout"
        }
      ]
    },
    {
      "cell_type": "code",
      "metadata": {
        "id": "emL648aYgdEN",
        "colab_type": "code",
        "colab": {
          "base_uri": "https://localhost:8080/",
          "height": 1000
        },
        "outputId": "ffa49659-0f6f-4743-bf01-48b305f3c495"
      },
      "source": [
        "num_epochs = 30\n",
        "r = model.fit(padded, y_train, epochs=num_epochs)"
      ],
      "execution_count": 34,
      "outputs": [
        {
          "output_type": "stream",
          "text": [
            "Train on 1600 samples\n",
            "Epoch 1/30\n",
            "1600/1600 [==============================] - 1s 427us/sample - loss: 1.3747 - accuracy: 0.2788\n",
            "Epoch 2/30\n",
            "1600/1600 [==============================] - 0s 63us/sample - loss: 1.3082 - accuracy: 0.2575\n",
            "Epoch 3/30\n",
            "1600/1600 [==============================] - 0s 58us/sample - loss: 1.1557 - accuracy: 0.3981\n",
            "Epoch 4/30\n",
            "1600/1600 [==============================] - 0s 58us/sample - loss: 0.9500 - accuracy: 0.7019\n",
            "Epoch 5/30\n",
            "1600/1600 [==============================] - 0s 61us/sample - loss: 0.7324 - accuracy: 0.7212\n",
            "Epoch 6/30\n",
            "1600/1600 [==============================] - 0s 58us/sample - loss: 0.5294 - accuracy: 0.7444\n",
            "Epoch 7/30\n",
            "1600/1600 [==============================] - 0s 59us/sample - loss: 0.4432 - accuracy: 0.8331\n",
            "Epoch 8/30\n",
            "1600/1600 [==============================] - 0s 55us/sample - loss: 0.3914 - accuracy: 0.8956\n",
            "Epoch 9/30\n",
            "1600/1600 [==============================] - 0s 61us/sample - loss: 0.3410 - accuracy: 0.9644\n",
            "Epoch 10/30\n",
            "1600/1600 [==============================] - 0s 56us/sample - loss: 0.2851 - accuracy: 0.9719\n",
            "Epoch 11/30\n",
            "1600/1600 [==============================] - 0s 58us/sample - loss: 0.2240 - accuracy: 0.9769\n",
            "Epoch 12/30\n",
            "1600/1600 [==============================] - 0s 59us/sample - loss: 0.1699 - accuracy: 0.9769\n",
            "Epoch 13/30\n",
            "1600/1600 [==============================] - 0s 61us/sample - loss: 0.1306 - accuracy: 0.9831\n",
            "Epoch 14/30\n",
            "1600/1600 [==============================] - 0s 63us/sample - loss: 0.1059 - accuracy: 0.9812\n",
            "Epoch 15/30\n",
            "1600/1600 [==============================] - 0s 61us/sample - loss: 0.0886 - accuracy: 0.9862\n",
            "Epoch 16/30\n",
            "1600/1600 [==============================] - 0s 59us/sample - loss: 0.0771 - accuracy: 0.9856\n",
            "Epoch 17/30\n",
            "1600/1600 [==============================] - 0s 60us/sample - loss: 0.0703 - accuracy: 0.9819\n",
            "Epoch 18/30\n",
            "1600/1600 [==============================] - 0s 60us/sample - loss: 0.0628 - accuracy: 0.9862\n",
            "Epoch 19/30\n",
            "1600/1600 [==============================] - 0s 59us/sample - loss: 0.0585 - accuracy: 0.9869\n",
            "Epoch 20/30\n",
            "1600/1600 [==============================] - 0s 58us/sample - loss: 0.0544 - accuracy: 0.9869\n",
            "Epoch 21/30\n",
            "1600/1600 [==============================] - 0s 63us/sample - loss: 0.0525 - accuracy: 0.9837\n",
            "Epoch 22/30\n",
            "1600/1600 [==============================] - 0s 57us/sample - loss: 0.0501 - accuracy: 0.9875\n",
            "Epoch 23/30\n",
            "1600/1600 [==============================] - 0s 58us/sample - loss: 0.0480 - accuracy: 0.9875\n",
            "Epoch 24/30\n",
            "1600/1600 [==============================] - 0s 62us/sample - loss: 0.0462 - accuracy: 0.9875\n",
            "Epoch 25/30\n",
            "1600/1600 [==============================] - 0s 61us/sample - loss: 0.0438 - accuracy: 0.9875\n",
            "Epoch 26/30\n",
            "1600/1600 [==============================] - 0s 59us/sample - loss: 0.0431 - accuracy: 0.9875\n",
            "Epoch 27/30\n",
            "1600/1600 [==============================] - 0s 59us/sample - loss: 0.0415 - accuracy: 0.9875\n",
            "Epoch 28/30\n",
            "1600/1600 [==============================] - 0s 72us/sample - loss: 0.0401 - accuracy: 0.9875\n",
            "Epoch 29/30\n",
            "1600/1600 [==============================] - 0s 56us/sample - loss: 0.0395 - accuracy: 0.9875\n",
            "Epoch 30/30\n",
            "1600/1600 [==============================] - 0s 59us/sample - loss: 0.0395 - accuracy: 0.9875\n"
          ],
          "name": "stdout"
        }
      ]
    },
    {
      "cell_type": "markdown",
      "metadata": {
        "id": "rrrPKUrsp4EB",
        "colab_type": "text"
      },
      "source": [
        "**Plotting Training Loss and Accuracy**"
      ]
    },
    {
      "cell_type": "code",
      "metadata": {
        "id": "5JUPnfa6nndB",
        "colab_type": "code",
        "colab": {
          "base_uri": "https://localhost:8080/",
          "height": 295
        },
        "outputId": "dfafcad5-d1fe-4fc9-ed64-3949132f3fc4"
      },
      "source": [
        "sns.lineplot(x=range(1,num_epochs+1),y=r.history['loss'])\n",
        "#sns.lineplot(x=range(1,num_epochs+1),y=r.history['val_loss'])\n",
        "plt.title('Model Cross Entropy Loss')\n",
        "plt.ylabel('Cross Entropy Loss')\n",
        "plt.xlabel('Epochs')\n",
        "plt.legend(['Training'], loc='upper left');"
      ],
      "execution_count": 35,
      "outputs": [
        {
          "output_type": "display_data",
          "data": {
            "image/png": "[encoded data removed]",
            "text/plain": [
              "<Figure size 432x288 with 1 Axes>"
            ]
          },
          "metadata": {
            "tags": []
          }
        }
      ]
    },
    {
      "cell_type": "code",
      "metadata": {
        "id": "oAaNKmmlo2It",
        "colab_type": "code",
        "colab": {
          "base_uri": "https://localhost:8080/",
          "height": 295
        },
        "outputId": "61d18105-0e0b-4d42-c56a-597f7b2f8560"
      },
      "source": [
        "sns.lineplot(x=range(1,num_epochs+1),y=r.history['accuracy'])\n",
        "#sns.lineplot(x=range(1,num_epochs+1),y=r.history['val_acc'])\n",
        "plt.title('Model Accuracy')\n",
        "plt.ylabel('Accuracy')\n",
        "plt.xlabel('Epochs')\n",
        "plt.legend(['Training'], loc='upper left');"
      ],
      "execution_count": 37,
      "outputs": [
        {
          "output_type": "display_data",
          "data": {
            "image/png": "[encoded data removed]",
            "text/plain": [
              "<Figure size 432x288 with 1 Axes>"
            ]
          },
          "metadata": {
            "tags": []
          }
        }
      ]
    },
    {
      "cell_type": "markdown",
      "metadata": {
        "id": "P7V5pyAVqNLz",
        "colab_type": "text"
      },
      "source": [
        "**Plotting the confusion matrix and comparing with the classical models**"
      ]
    },
    {
      "cell_type": "code",
      "metadata": {
        "id": "nWkvqLrEpORT",
        "colab_type": "code",
        "colab": {}
      },
      "source": [
        "y_pred = model.predict(testing_padded).argmax(axis=1)"
      ],
      "execution_count": 0,
      "outputs": []
    },
    {
      "cell_type": "code",
      "metadata": {
        "id": "we--oA3Ipd8a",
        "colab_type": "code",
        "colab": {
          "base_uri": "https://localhost:8080/",
          "height": 269
        },
        "outputId": "ab090f61-60ac-4354-f2b4-1c9e5c271f2e"
      },
      "source": [
        "cm = confusion_matrix(y_pred=y_pred, y_true=y_test)\n",
        "    \n",
        "cm = cm.astype('float') / cm.sum(axis=1)[:, np.newaxis]\n",
        "    \n",
        "ax=sns.heatmap(cm, annot=True, xticklabels=['Ports','Vessels','Companies','Dates'], yticklabels=['Ports','Vessels','Companies','Dates'], cmap='Blues')\n",
        "ax.set_ylim(4.0, 0)\n",
        "plt.show()"
      ],
      "execution_count": 39,
      "outputs": [
        {
          "output_type": "display_data",
          "data": {
            "image/png": "[encoded data removed]",
            "text/plain": [
              "<Figure size 432x288 with 2 Axes>"
            ]
          },
          "metadata": {
            "tags": []
          }
        }
      ]
    },
    {
      "cell_type": "code",
      "metadata": {
        "id": "4CK96XxBpndB",
        "colab_type": "code",
        "colab": {}
      },
      "source": [
        ""
      ],
      "execution_count": 0,
      "outputs": []
    }
  ]
}