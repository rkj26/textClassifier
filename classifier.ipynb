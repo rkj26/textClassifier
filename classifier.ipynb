{
  "nbformat": 4,
  "nbformat_minor": 0,
  "metadata": {
    "colab": {
      "name": "classifier.ipynb",
      "provenance": [],
      "include_colab_link": true
    },
    "kernelspec": {
      "name": "python3",
      "display_name": "Python 3"
    },
    "accelerator": "TPU"
  },
  "cells": [
    {
      "cell_type": "markdown",
      "metadata": {
        "id": "view-in-github",
        "colab_type": "text"
      },
      "source": [
        "<a href=\"https://colab.research.google.com/github/rkj26/textClassifier/blob/master/classifier.ipynb\" target=\"_parent\"><img src=\"https://colab.research.google.com/assets/colab-badge.svg\" alt=\"Open In Colab\"/></a>"
      ]
    },
    {
      "cell_type": "code",
      "metadata": {
        "id": "59Pvj8SvCSzW",
        "colab_type": "code",
        "colab": {}
      },
      "source": [
        "%%capture\n",
        "!apt-get update # to update ubuntu to correctly run apt install\n",
        "!apt install chromium-chromedriver\n",
        "!cp /usr/lib/chromium-browser/chromedriver /usr/bin\n",
        "import sys\n",
        "sys.path.insert(0,'/usr/lib/chromium-browser/chromedriver')\n",
        "!pip install selenium"
      ],
      "execution_count": 0,
      "outputs": []
    },
    {
      "cell_type": "code",
      "metadata": {
        "id": "lSnux9wWknaG",
        "colab_type": "code",
        "colab": {}
      },
      "source": [
        "import re\n",
        "from string import ascii_uppercase\n",
        "import pandas as pd\n",
        "import numpy as np\n",
        "from selenium import webdriver\n",
        "from bs4 import BeautifulSoup\n",
        "from selenium.webdriver.common.by import By\n",
        "from selenium.webdriver.support.ui import WebDriverWait\n",
        "from selenium.webdriver.support import expected_conditions as EC\n",
        "import string"
      ],
      "execution_count": 0,
      "outputs": []
    },
    {
      "cell_type": "code",
      "metadata": {
        "id": "6Npk3FsVrC9a",
        "colab_type": "code",
        "colab": {}
      },
      "source": [
        "from random import randint\n",
        "import datetime"
      ],
      "execution_count": 0,
      "outputs": []
    },
    {
      "cell_type": "code",
      "metadata": {
        "id": "ayeOOWVs-H0N",
        "colab_type": "code",
        "colab": {}
      },
      "source": [
        "chrome_options = webdriver.ChromeOptions()\n",
        "chrome_options.add_argument('--headless')\n",
        "chrome_options.add_argument('--no-sandbox')\n",
        "chrome_options.add_argument('--disable-dev-shm-usage')"
      ],
      "execution_count": 0,
      "outputs": []
    },
    {
      "cell_type": "code",
      "metadata": {
        "id": "vDULFI35zuIm",
        "colab_type": "code",
        "colab": {}
      },
      "source": [
        "wd = webdriver.Chrome('chromedriver',options=chrome_options)\n",
        "wd.get('https://www.fleetmon.com/vessels/')"
      ],
      "execution_count": 0,
      "outputs": []
    },
    {
      "cell_type": "code",
      "metadata": {
        "id": "C3Jc7Mt-2vQq",
        "colab_type": "code",
        "colab": {}
      },
      "source": [
        "vessels_new = []"
      ],
      "execution_count": 0,
      "outputs": []
    },
    {
      "cell_type": "code",
      "metadata": {
        "colab_type": "code",
        "id": "qCu2cCCr2KGT",
        "colab": {}
      },
      "source": [
        "wd = webdriver.Chrome('chromedriver',options=chrome_options)\n",
        "wd.get('https://www.fleetmon.com/vessels/')\n",
        "noPages = 300\n",
        "for page in range(noPages):\n",
        "  soup = BeautifulSoup(wd.page_source, 'lxml')\n",
        "  temp = []\n",
        "  for child in soup.find_all('a', href=re.compile('/vessels/')):\n",
        "    temp.append(child.text)\n",
        "  vessels_new = vessels_new +temp[2:22]\n",
        "  # button = WebDriverWait(wd, 20).until(EC.presence_of_element_located((By.ID, 'vesselsearch_table_next')))\n",
        "  # button.click()\n",
        "  element = wd.find_element_by_id('vesselsearch_table_next')\n",
        "  wd.execute_script(\"arguments[0].click();\", element)\n"
      ],
      "execution_count": 0,
      "outputs": []
    },
    {
      "cell_type": "code",
      "metadata": {
        "id": "MmpCxn34bZRF",
        "colab_type": "code",
        "colab": {}
      },
      "source": [
        "ports = []\n",
        "vessels = []\n",
        "companies = []\n",
        "dates = []"
      ],
      "execution_count": 0,
      "outputs": []
    },
    {
      "cell_type": "code",
      "metadata": {
        "id": "NTBJp7u2mVda",
        "colab_type": "code",
        "colab": {}
      },
      "source": [
        "temp = 'https://directories.lloydslist.com/port-browse-name/searchid/0/searchchar/'  #This part is link of the search query that is constant so I decided to hardcode it\n",
        "wd = webdriver.Chrome('chromedriver',options=chrome_options)\n",
        "for c in ascii_uppercase:\n",
        "  i = 1\n",
        "  url = temp + c # Go over all the letters in alphabets and store the ports\n",
        "  while(True):              # As each page has different number of results, using try and except to break the loop when there are no results left to store.\n",
        "    try:\n",
        "      if i == 1:\n",
        "        wd.get(url=url)\n",
        "        souplevel = BeautifulSoup(wd.page_source, 'lxml')\n",
        "      else:\n",
        "        button = wd.find_element_by_link_text(str(i))\n",
        "        button.click()\n",
        "        souplevel = BeautifulSoup(wd.page_source, 'lxml')\n",
        "\n",
        "      for child in souplevel.find_all('a', href=re.compile('port-browse-listing/portid')): #All ports are stored using this template therefore used regular expression to find all <a href = ''></a> tags and stored their text. \n",
        "        if child.text != 'Learn More':\n",
        "          ports.append(child.text) \n",
        "    \n",
        "      i+=1\n",
        "    except:\n",
        "      break"
      ],
      "execution_count": 0,
      "outputs": []
    },
    {
      "cell_type": "code",
      "metadata": {
        "id": "J3SogaEi5LWf",
        "colab_type": "code",
        "colab": {
          "base_uri": "https://localhost:8080/",
          "height": 34
        },
        "outputId": "9f879b78-11d8-4ec8-a623-369accb400ae"
      },
      "source": [
        "len(ports)"
      ],
      "execution_count": 24,
      "outputs": [
        {
          "output_type": "execute_result",
          "data": {
            "text/plain": [
              "6657"
            ]
          },
          "metadata": {
            "tags": []
          },
          "execution_count": 24
        }
      ]
    },
    {
      "cell_type": "code",
      "metadata": {
        "id": "nnYyarQ8A6rJ",
        "colab_type": "code",
        "colab": {}
      },
      "source": [
        "NO_OF_PAGES=25 #Only 25 pages to view therefore hard coded it.\n",
        "wd = webdriver.Chrome('chromedriver',options=chrome_options)\n",
        "url = 'https://www.marinetraffic.com/en/data/?asset_type=vessels&columns=flag,shipname,photo,recognized_next_port,reported_eta,reported_destination,current_port,imo,ship_type,show_on_live_map,time_of_latest_position,lat_of_latest_position,lon_of_latest_position'\n",
        "wd.get(url=url)\n",
        "for i in range(NO_OF_PAGES):\n",
        "  button = WebDriverWait(wd, 20).until(EC.presence_of_element_located((By.XPATH, '//*[@id=\"reporting_ag_grid\"]/div/div[2]/div[3]/div/div/div/div/div[3]/button[2]')))\n",
        "  if i!=0:\n",
        "    button.click()\n",
        "  soup = BeautifulSoup(wd.page_source, 'lxml')\n",
        "  for element in soup.find_all('a', href=re.compile('/en/ais/details/ships/')): #Similar thought as the for port web scrapper.\n",
        "    vessels_new.append(element.text)"
      ],
      "execution_count": 0,
      "outputs": []
    },
    {
      "cell_type": "code",
      "metadata": {
        "id": "3djI4lRVOtzY",
        "colab_type": "code",
        "colab": {}
      },
      "source": [
        "url = 'https://opencorporates.com/registers'\n",
        "wd = webdriver.Chrome('chromedriver',options=chrome_options)\n",
        "wd.get(url)\n",
        "soup = BeautifulSoup(wd.page_source, 'lxml')\n",
        "numberOfRegistries = int(soup.find(id='DataTables_Table_0_info').text.split(' ')[-2]) #Finding out the number of registries\n",
        "for i in range(numberOfRegistries):\n",
        "  xpath = '//*[@id=\"DataTables_Table_0\"]/tbody/tr['+str(i+1)+']/td[3]/a' #Every row of the table and third column which is a clickable link to the companies.\n",
        "  companiesLink = WebDriverWait(wd, 20).until(EC.presence_of_element_located((By.XPATH, xpath)))\n",
        "  companiesLink.click()\n",
        "  lookup = str(wd.current_url)[26:]+'/'  #Lookup for the directory link which is used for every company in the registry\n",
        "\n",
        "  for j in range(3): \n",
        "    if j != 0:\n",
        "      nextPath = '//*[@id=\"results\"]/div/div[1]/ul/li[8]/a'  #XPath for the next button\n",
        "      nextButton = wd.find_element_by_xpath(nextPath)\n",
        "      nextButton.click()\n",
        "        \n",
        "    subSoup = BeautifulSoup(wd.page_source, 'lxml')\n",
        "    for k in subSoup.find_all('a', href=re.compile(lookup)):\n",
        "      companies.append(k.text)\n",
        "  wd.get(url)"
      ],
      "execution_count": 0,
      "outputs": []
    },
    {
      "cell_type": "code",
      "metadata": {
        "id": "vUuWGjPVQ8h5",
        "colab_type": "code",
        "colab": {}
      },
      "source": [
        "ports = np.array(ports)\n",
        "vessels = np.array(vessels_new)\n",
        "companies = np.array(companies)"
      ],
      "execution_count": 0,
      "outputs": []
    },
    {
      "cell_type": "code",
      "metadata": {
        "id": "nRk5ihlCucwo",
        "colab_type": "code",
        "outputId": "66e6a796-9265-4747-e159-220229ca7bb7",
        "colab": {
          "base_uri": "https://localhost:8080/",
          "height": 68
        }
      },
      "source": [
        "print(len(ports))\n",
        "print(len(vessels))\n",
        "print(len(companies))"
      ],
      "execution_count": 28,
      "outputs": [
        {
          "output_type": "stream",
          "text": [
            "6657\n",
            "6500\n",
            "12512\n"
          ],
          "name": "stdout"
        }
      ]
    },
    {
      "cell_type": "code",
      "metadata": {
        "id": "kUZPzZt9lv71",
        "colab_type": "code",
        "colab": {}
      },
      "source": [
        "def dateGenerator():\n",
        "  i = randint(0,4)\n",
        "  dd, mm, yyyy = randomGenerator()\n",
        "  correct = check_date(yyyy, mm, dd)\n",
        "  if correct:\n",
        "    date = datetime.datetime(yyyy, mm, dd)\n",
        "    if i==0:\n",
        "      date = \"{0:0=2d}\".format(dd)+'/'+\"{0:0=2d}\".format(mm)+'/'+str(yyyy)\n",
        "    elif i==1:\n",
        "      date = \"{0:0=2d}\".format(mm)+'/'+\"{0:0=2d}\".format(dd)+'/'+str(yyyy)\n",
        "    elif i==2:\n",
        "      date = str(yyyy)+'/'+\"{0:0=2d}\".format(mm)+'/'+\"{0:0=2d}\".format(dd)\n",
        "    elif i==3:\n",
        "      date = date.strftime(\"%b %d %Y\")\n",
        "    elif i==4:\n",
        "      date = date.strftime(\"%B %d %Y\")\n",
        "    return date\n",
        "  else:\n",
        "    return dateGenerator()"
      ],
      "execution_count": 0,
      "outputs": []
    },
    {
      "cell_type": "code",
      "metadata": {
        "id": "KTboWMQRyxB3",
        "colab_type": "code",
        "colab": {}
      },
      "source": [
        "def randomGenerator():\n",
        "  dd = randint(1,31)\n",
        "  mm = randint(1,12)\n",
        "  yyyy = randint(1970, 2020)\n",
        "  return dd, mm, yyyy"
      ],
      "execution_count": 0,
      "outputs": []
    },
    {
      "cell_type": "code",
      "metadata": {
        "id": "v4aGQwoUsZsN",
        "colab_type": "code",
        "colab": {}
      },
      "source": [
        "def check_date(year, month, day):\n",
        "    correctDate = None\n",
        "    try:\n",
        "        newDate = datetime.datetime(year, month, day)\n",
        "        correctDate = True\n",
        "    except ValueError:\n",
        "        correctDate = False\n",
        "    return correctDate"
      ],
      "execution_count": 0,
      "outputs": []
    },
    {
      "cell_type": "code",
      "metadata": {
        "id": "dZjVZ59oq2pH",
        "colab_type": "code",
        "colab": {}
      },
      "source": [
        "for i in range(6500):\n",
        "  dates.append(dateGenerator())"
      ],
      "execution_count": 0,
      "outputs": []
    },
    {
      "cell_type": "code",
      "metadata": {
        "id": "fYeFZ6AhWiVc",
        "colab_type": "code",
        "colab": {}
      },
      "source": [
        "df = pd.DataFrame(columns=['Text', 'Target'])\n",
        "np.random.shuffle(ports)\n",
        "np.random.shuffle(companies)\n",
        "np.random.shuffle(vessels)"
      ],
      "execution_count": 0,
      "outputs": []
    },
    {
      "cell_type": "markdown",
      "metadata": {
        "id": "B7IQcRh4VnqI",
        "colab_type": "text"
      },
      "source": [
        "**Creating a shuffled dataset with 26000 entries. Each class has 6500 samples**"
      ]
    },
    {
      "cell_type": "code",
      "metadata": {
        "id": "M-nGvbWCW3lp",
        "colab_type": "code",
        "outputId": "107803f3-1218-44ab-f651-7f0667a02b8e",
        "colab": {
          "base_uri": "https://localhost:8080/",
          "height": 85
        }
      },
      "source": [
        "i = 0 \n",
        "for port in ports:\n",
        "  if i <6500:\n",
        "    port = port.translate(str.maketrans(string.punctuation,' '*len(string.punctuation)))\n",
        "    port = port.lower()\n",
        "    port = ' '.join(port.split())\n",
        "    df = df.append({'Text':port, 'Target': 0}, ignore_index=True)\n",
        "    i += 1\n",
        "  else:\n",
        "    i = 0\n",
        "    break\n",
        "print(df.shape)\n",
        "for port in vessels:\n",
        "  if i <6500:\n",
        "    port = port.translate(str.maketrans(string.punctuation,' '*len(string.punctuation)))\n",
        "    port = port.lower()\n",
        "    port = ' '.join(port.split())\n",
        "    df = df.append({'Text':port, 'Target': 1}, ignore_index=True)\n",
        "    i += 1\n",
        "  else:\n",
        "    i = 0\n",
        "    break\n",
        "print(df.shape)\n",
        "i = 0\n",
        "for port in companies:\n",
        "  if i<6500:\n",
        "    port = str(port)\n",
        "    port = port.translate(str.maketrans(string.punctuation,' '*len(string.punctuation)))\n",
        "    port = port.lower()\n",
        "    port = ' '.join(port.split())\n",
        "    df = df.append({'Text':port, 'Target': 2}, ignore_index=True)\n",
        "    i+=1\n",
        "  else:\n",
        "    i = 0\n",
        "    break\n",
        "print(df.shape)\n",
        "\n",
        "for port in dates:\n",
        "  if i<6500:\n",
        "    port = str(port)\n",
        "    port = port.translate(str.maketrans(string.punctuation,' '*len(string.punctuation)))\n",
        "    port = port.lower()\n",
        "    port = ' '.join(port.split())\n",
        "    df = df.append({'Text':port, 'Target': 3}, ignore_index=True)\n",
        "    i+=1\n",
        "  else:\n",
        "    i = 0\n",
        "    break\n",
        "print(df.shape)"
      ],
      "execution_count": 34,
      "outputs": [
        {
          "output_type": "stream",
          "text": [
            "(6500, 2)\n",
            "(13000, 2)\n",
            "(19500, 2)\n",
            "(26000, 2)\n"
          ],
          "name": "stdout"
        }
      ]
    },
    {
      "cell_type": "code",
      "metadata": {
        "id": "6WCPlcjUG-jT",
        "colab_type": "code",
        "colab": {}
      },
      "source": [
        "X = df['Text'].values\n",
        "y = df['Target'].values"
      ],
      "execution_count": 0,
      "outputs": []
    },
    {
      "cell_type": "markdown",
      "metadata": {
        "id": "PtlvAeHmVzJX",
        "colab_type": "text"
      },
      "source": [
        "**Splitting dataset to Train: 80% and Test: 20%**"
      ]
    },
    {
      "cell_type": "code",
      "metadata": {
        "id": "Z3Sq60zNG14J",
        "colab_type": "code",
        "colab": {}
      },
      "source": [
        "from sklearn.model_selection import train_test_split\n",
        "X_train, X_test, y_train, y_test = train_test_split(X,y,test_size = 0.2, random_state=42,shuffle=True)"
      ],
      "execution_count": 0,
      "outputs": []
    },
    {
      "cell_type": "code",
      "metadata": {
        "id": "mFPPPVofJHAW",
        "colab_type": "code",
        "colab": {}
      },
      "source": [
        "y_train=y_train.astype('int')\n",
        "y_test=y_test.astype('int')"
      ],
      "execution_count": 0,
      "outputs": []
    },
    {
      "cell_type": "markdown",
      "metadata": {
        "id": "XFE00gYrV6xn",
        "colab_type": "text"
      },
      "source": [
        "**Pipeline for the preprocessing using CountVectorizer and TF-IDF and using an stacked model of Logistic Regression and RandomForest (no hyper-parameter tuning)**"
      ]
    },
    {
      "cell_type": "code",
      "metadata": {
        "id": "5yptiHcTDmI1",
        "colab_type": "code",
        "outputId": "64fe1217-16a6-4710-c003-a978dd0df2a7",
        "colab": {
          "base_uri": "https://localhost:8080/",
          "height": 71
        }
      },
      "source": [
        "from sklearn.linear_model import LogisticRegression\n",
        "from sklearn.ensemble import RandomForestClassifier\n",
        "from sklearn.ensemble import ExtraTreesClassifier\n",
        "from sklearn.svm import SVC\n",
        "from sklearn.ensemble import GradientBoostingClassifier\n",
        "from sklearn.feature_extraction.text import TfidfTransformer\n",
        "from sklearn.feature_extraction.text import CountVectorizer\n",
        "from sklearn.pipeline import Pipeline\n",
        "from mlxtend.classifier import StackingClassifier\n",
        "lr = LogisticRegression()\n",
        "rf = RandomForestClassifier()\n",
        "gradB = GradientBoostingClassifier\n",
        "\n",
        "text_clf = Pipeline([('vect', CountVectorizer(stop_words='english')),\n",
        "                     ('tfidf', TfidfTransformer()),\n",
        "                     ('clf', StackingClassifier(classifiers=[LogisticRegression(), RandomForestClassifier()], \n",
        "                          meta_classifier=GradientBoostingClassifier()))])"
      ],
      "execution_count": 38,
      "outputs": [
        {
          "output_type": "stream",
          "text": [
            "/usr/local/lib/python3.6/dist-packages/sklearn/externals/six.py:31: DeprecationWarning: The module is deprecated in version 0.21 and will be removed in version 0.23 since we've dropped support for Python 2.7. Please rely on the official version of six (https://pypi.org/project/six/).\n",
            "  \"(https://pypi.org/project/six/).\", DeprecationWarning)\n"
          ],
          "name": "stderr"
        }
      ]
    },
    {
      "cell_type": "code",
      "metadata": {
        "id": "4OgI-YHrIjeR",
        "colab_type": "code",
        "outputId": "d3e418e5-a7ee-4e8d-999c-22471c40118c",
        "colab": {
          "base_uri": "https://localhost:8080/",
          "height": 612
        }
      },
      "source": [
        "text_clf.fit(X_train, y_train)"
      ],
      "execution_count": 39,
      "outputs": [
        {
          "output_type": "stream",
          "text": [
            "/usr/local/lib/python3.6/dist-packages/sklearn/linear_model/logistic.py:432: FutureWarning: Default solver will be changed to 'lbfgs' in 0.22. Specify a solver to silence this warning.\n",
            "  FutureWarning)\n",
            "/usr/local/lib/python3.6/dist-packages/sklearn/linear_model/logistic.py:469: FutureWarning: Default multi_class will be changed to 'auto' in 0.22. Specify the multi_class option to silence this warning.\n",
            "  \"this warning.\", FutureWarning)\n",
            "/usr/local/lib/python3.6/dist-packages/sklearn/ensemble/forest.py:245: FutureWarning: The default value of n_estimators will change from 10 in version 0.20 to 100 in 0.22.\n",
            "  \"10 in version 0.20 to 100 in 0.22.\", FutureWarning)\n"
          ],
          "name": "stderr"
        },
        {
          "output_type": "execute_result",
          "data": {
            "text/plain": [
              "Pipeline(memory=None,\n",
              "         steps=[('vect',\n",
              "                 CountVectorizer(analyzer='word', binary=False,\n",
              "                                 decode_error='strict',\n",
              "                                 dtype=<class 'numpy.int64'>, encoding='utf-8',\n",
              "                                 input='content', lowercase=True, max_df=1.0,\n",
              "                                 max_features=None, min_df=1,\n",
              "                                 ngram_range=(1, 1), preprocessor=None,\n",
              "                                 stop_words='english', strip_accents=None,\n",
              "                                 token_pattern='(?u)\\\\b\\\\w\\\\w+\\\\b',\n",
              "                                 tokenizer=None, vocabular...\n",
              "                                                                               min_impurity_split=None,\n",
              "                                                                               min_samples_leaf=1,\n",
              "                                                                               min_samples_split=2,\n",
              "                                                                               min_weight_fraction_leaf=0.0,\n",
              "                                                                               n_estimators=100,\n",
              "                                                                               n_iter_no_change=None,\n",
              "                                                                               presort='auto',\n",
              "                                                                               random_state=None,\n",
              "                                                                               subsample=1.0,\n",
              "                                                                               tol=0.0001,\n",
              "                                                                               validation_fraction=0.1,\n",
              "                                                                               verbose=0,\n",
              "                                                                               warm_start=False),\n",
              "                                    store_train_meta_features=False,\n",
              "                                    use_clones=True,\n",
              "                                    use_features_in_secondary=False,\n",
              "                                    use_probas=False, verbose=0))],\n",
              "         verbose=False)"
            ]
          },
          "metadata": {
            "tags": []
          },
          "execution_count": 39
        }
      ]
    },
    {
      "cell_type": "markdown",
      "metadata": {
        "id": "J1LDAq5fWS05",
        "colab_type": "text"
      },
      "source": [
        "**Cross Validation using 5-folds stratified**"
      ]
    },
    {
      "cell_type": "code",
      "metadata": {
        "id": "XhG4gk6UR7mH",
        "colab_type": "code",
        "outputId": "8ddd814f-aca9-42e4-ae18-cd3817ca904b",
        "colab": {
          "base_uri": "https://localhost:8080/",
          "height": 34
        }
      },
      "source": [
        "from sklearn.model_selection import StratifiedKFold\n",
        "from sklearn.model_selection import cross_val_score\n",
        "kfold = StratifiedKFold(n_splits = 5, shuffle = True, random_state = 42)\n",
        "cv_score = cross_val_score(text_clf, X_train, y_train, n_jobs =-1, scoring='accuracy', cv=kfold)\n",
        "print('Accuracy of the stacked model is: {}'.format(cv_score.mean()*100))"
      ],
      "execution_count": 40,
      "outputs": [
        {
          "output_type": "stream",
          "text": [
            "Accuracy of the stacked model is: 92.13458344033658\n"
          ],
          "name": "stdout"
        }
      ]
    },
    {
      "cell_type": "markdown",
      "metadata": {
        "id": "q9UIBKL8VQ7D",
        "colab_type": "text"
      },
      "source": [
        "**Checking results on actual test set**"
      ]
    },
    {
      "cell_type": "code",
      "metadata": {
        "id": "OJP-b3g9Iq56",
        "colab_type": "code",
        "colab": {}
      },
      "source": [
        "y_pred = text_clf.predict(X_test)"
      ],
      "execution_count": 0,
      "outputs": []
    },
    {
      "cell_type": "code",
      "metadata": {
        "id": "d7jYEYSuJiQ9",
        "colab_type": "code",
        "outputId": "54cce25c-f362-4961-d413-7645124c52a0",
        "colab": {
          "base_uri": "https://localhost:8080/",
          "height": 269
        }
      },
      "source": [
        "%matplotlib inline\n",
        "import matplotlib.pyplot as plt\n",
        "from sklearn.metrics import confusion_matrix\n",
        "import seaborn as sns\n",
        "cm = confusion_matrix(y_pred=y_pred, y_true=y_test)\n",
        "    \n",
        "cm = cm.astype('float') / cm.sum(axis=1)[:, np.newaxis]\n",
        "    \n",
        "ax=sns.heatmap(cm, annot=True, xticklabels=['Ports','Vessels','Companies','Dates'], yticklabels=['Ports','Vessels','Companies','Dates'], cmap='Blues')\n",
        "ax.set_ylim(4.0, 0)\n",
        "plt.show()"
      ],
      "execution_count": 42,
      "outputs": [
        {
          "output_type": "display_data",
          "data": {
            "image/png": "[encoded data removed]",
            "text/plain": [
              "<Figure size 432x288 with 2 Axes>"
            ]
          },
          "metadata": {
            "tags": []
          }
        }
      ]
    },
    {
      "cell_type": "code",
      "metadata": {
        "id": "bQOWL-ryJp82",
        "colab_type": "code",
        "outputId": "cf6ad5bb-f50b-4e4a-be87-9d45bcc19a0b",
        "colab": {
          "base_uri": "https://localhost:8080/",
          "height": 204
        }
      },
      "source": [
        "from sklearn.metrics import classification_report\n",
        "print(classification_report(y_true= y_test, y_pred = y_pred))"
      ],
      "execution_count": 43,
      "outputs": [
        {
          "output_type": "stream",
          "text": [
            "              precision    recall  f1-score   support\n",
            "\n",
            "           0       0.80      0.99      0.89      1315\n",
            "           1       1.00      0.96      0.98      1372\n",
            "           2       0.99      0.76      0.86      1242\n",
            "           3       0.99      1.00      1.00      1271\n",
            "\n",
            "    accuracy                           0.93      5200\n",
            "   macro avg       0.94      0.93      0.93      5200\n",
            "weighted avg       0.94      0.93      0.93      5200\n",
            "\n"
          ],
          "name": "stdout"
        }
      ]
    },
    {
      "cell_type": "code",
      "metadata": {
        "id": "NCdqs7lbqt2q",
        "colab_type": "code",
        "colab": {}
      },
      "source": [
        ""
      ],
      "execution_count": 0,
      "outputs": []
    },
    {
      "cell_type": "markdown",
      "metadata": {
        "id": "hWR-sqSZ_yyL",
        "colab_type": "text"
      },
      "source": [
        "**Deep Learning Implementation** (basic model)"
      ]
    },
    {
      "cell_type": "code",
      "metadata": {
        "id": "CrNZtMZlpy7d",
        "colab_type": "code",
        "outputId": "f835d5bd-dba2-4681-caf5-85bce142f1a8",
        "colab": {
          "base_uri": "https://localhost:8080/",
          "height": 119
        }
      },
      "source": [
        "try:\n",
        "  %tensorflow_version 2.x  # Colab only.\n",
        "except Exception:\n",
        "  pass\n",
        "\n",
        "import tensorflow as tf\n",
        "print(tf.__version__)"
      ],
      "execution_count": 44,
      "outputs": [
        {
          "output_type": "stream",
          "text": [
            "`%tensorflow_version` only switches the major version: `1.x` or `2.x`.\n",
            "You set: `2.x  # Colab only.`. This will be interpreted as: `2.x`.\n",
            "\n",
            "\n",
            "TensorFlow 2.x selected.\n",
            "2.1.0-rc1\n"
          ],
          "name": "stdout"
        }
      ]
    },
    {
      "cell_type": "code",
      "metadata": {
        "id": "6f7svichWezH",
        "colab_type": "code",
        "colab": {}
      },
      "source": [
        "from tensorflow.keras.preprocessing.text import Tokenizer\n",
        "from tensorflow.keras.preprocessing.sequence import pad_sequences"
      ],
      "execution_count": 0,
      "outputs": []
    },
    {
      "cell_type": "code",
      "metadata": {
        "id": "veI0fypIec6I",
        "colab_type": "code",
        "colab": {}
      },
      "source": [
        "vocab_size = 2000\n",
        "embedding_dim = 16\n",
        "max_length = 5\n",
        "trunc_type='post'\n",
        "oov_tok = '<OOV>'"
      ],
      "execution_count": 0,
      "outputs": []
    },
    {
      "cell_type": "code",
      "metadata": {
        "id": "KXmtgCSReyuY",
        "colab_type": "code",
        "colab": {}
      },
      "source": [
        "tokenizer = Tokenizer(num_words = vocab_size, oov_token=oov_tok)\n",
        "tokenizer.fit_on_texts(X_train)\n",
        "word_index = tokenizer.word_index\n",
        "sequences = tokenizer.texts_to_sequences(X_train)\n",
        "padded = pad_sequences(sequences,maxlen=max_length, truncating=trunc_type)"
      ],
      "execution_count": 0,
      "outputs": []
    },
    {
      "cell_type": "code",
      "metadata": {
        "id": "YIjUkPfPe62A",
        "colab_type": "code",
        "colab": {}
      },
      "source": [
        "testing_sequences = tokenizer.texts_to_sequences(X_test)\n",
        "testing_padded = pad_sequences(testing_sequences,maxlen=max_length)"
      ],
      "execution_count": 0,
      "outputs": []
    },
    {
      "cell_type": "markdown",
      "metadata": {
        "id": "UNb9nPz3I2X7",
        "colab_type": "text"
      },
      "source": [
        "**Cross Validation**"
      ]
    },
    {
      "cell_type": "code",
      "metadata": {
        "id": "YezF1RmTz0wo",
        "colab_type": "code",
        "outputId": "a4bda7c6-e7ff-473f-b8a5-4adc6b5e87c3",
        "colab": {
          "base_uri": "https://localhost:8080/",
          "height": 119
        }
      },
      "source": [
        "num_epochs = 30\n",
        "scores = []\n",
        "for train, test in kfold.split(padded, y_train):\n",
        "  model = tf.keras.Sequential([\n",
        "    tf.keras.layers.Embedding(vocab_size, embedding_dim, input_length=max_length),\n",
        "    tf.keras.layers.Flatten(),\n",
        "    tf.keras.layers.Dense(6, activation='relu'),\n",
        "    tf.keras.layers.Dense(4, activation='softmax')])\n",
        "  model.compile(loss='sparse_categorical_crossentropy',optimizer='adam',metrics=['accuracy'])\n",
        "  model.fit(padded[train], y_train[train], epochs=num_epochs, verbose=0)\n",
        "  score = model.evaluate(padded[test], y_train[test], verbose=0)\n",
        "  print(\"%s: %.2f%%\" % ('Accuracy', score[1]*100))\n",
        "  scores.append(score[1]*100)\n",
        "print(\"%.2f%% (+/- %.2f%%)\" % (np.mean(scores), np.std(scores)))"
      ],
      "execution_count": 49,
      "outputs": [
        {
          "output_type": "stream",
          "text": [
            "Accuracy: 95.96%\n",
            "Accuracy: 96.44%\n",
            "Accuracy: 96.06%\n",
            "Accuracy: 95.91%\n",
            "Accuracy: 95.74%\n",
            "96.02% (+/- 0.23%)\n"
          ],
          "name": "stdout"
        }
      ]
    },
    {
      "cell_type": "code",
      "metadata": {
        "id": "iRqLZdvjfALM",
        "colab_type": "code",
        "outputId": "50035261-17c0-4cb5-bd9e-f98eb7b9453b",
        "colab": {
          "base_uri": "https://localhost:8080/",
          "height": 289
        }
      },
      "source": [
        "model = tf.keras.Sequential([\n",
        "    tf.keras.layers.Embedding(vocab_size, embedding_dim, input_length=max_length),\n",
        "    tf.keras.layers.Flatten(),\n",
        "    tf.keras.layers.Dense(6, activation='relu'),\n",
        "    tf.keras.layers.Dense(4, activation='softmax')\n",
        "])\n",
        "model.compile(loss='sparse_categorical_crossentropy',optimizer='adam',metrics=['accuracy'])\n",
        "model.summary()"
      ],
      "execution_count": 50,
      "outputs": [
        {
          "output_type": "stream",
          "text": [
            "Model: \"sequential_5\"\n",
            "_________________________________________________________________\n",
            "Layer (type)                 Output Shape              Param #   \n",
            "=================================================================\n",
            "embedding_5 (Embedding)      (None, 5, 16)             32000     \n",
            "_________________________________________________________________\n",
            "flatten_5 (Flatten)          (None, 80)                0         \n",
            "_________________________________________________________________\n",
            "dense_10 (Dense)             (None, 6)                 486       \n",
            "_________________________________________________________________\n",
            "dense_11 (Dense)             (None, 4)                 28        \n",
            "=================================================================\n",
            "Total params: 32,514\n",
            "Trainable params: 32,514\n",
            "Non-trainable params: 0\n",
            "_________________________________________________________________\n"
          ],
          "name": "stdout"
        }
      ]
    },
    {
      "cell_type": "code",
      "metadata": {
        "id": "emL648aYgdEN",
        "colab_type": "code",
        "colab": {}
      },
      "source": [
        "r = model.fit(padded, y_train, epochs=num_epochs,verbose=0)"
      ],
      "execution_count": 0,
      "outputs": []
    },
    {
      "cell_type": "markdown",
      "metadata": {
        "id": "rrrPKUrsp4EB",
        "colab_type": "text"
      },
      "source": [
        "**Plotting Training Loss and Accuracy**"
      ]
    },
    {
      "cell_type": "code",
      "metadata": {
        "id": "5JUPnfa6nndB",
        "colab_type": "code",
        "outputId": "1c8e1484-9b0d-4b58-f75f-b591563b13c4",
        "colab": {
          "base_uri": "https://localhost:8080/",
          "height": 295
        }
      },
      "source": [
        "sns.lineplot(x=range(1,num_epochs+1),y=r.history['loss'])\n",
        "#sns.lineplot(x=range(1,num_epochs+1),y=r.history['val_loss'])\n",
        "plt.title('Model Cross Entropy Loss')\n",
        "plt.ylabel('Cross Entropy Loss')\n",
        "plt.xlabel('Epochs')\n",
        "plt.legend(['Training'], loc='upper left');"
      ],
      "execution_count": 52,
      "outputs": [
        {
          "output_type": "display_data",
          "data": {
            "image/png": "[encoded data removed]",
            "text/plain": [
              "<Figure size 432x288 with 1 Axes>"
            ]
          },
          "metadata": {
            "tags": []
          }
        }
      ]
    },
    {
      "cell_type": "code",
      "metadata": {
        "id": "oAaNKmmlo2It",
        "colab_type": "code",
        "outputId": "adf4dae6-7c15-4c28-bc9a-bb411310511b",
        "colab": {
          "base_uri": "https://localhost:8080/",
          "height": 295
        }
      },
      "source": [
        "sns.lineplot(x=range(1,num_epochs+1),y=r.history['accuracy'])\n",
        "#sns.lineplot(x=range(1,num_epochs+1),y=r.history['val_acc'])\n",
        "plt.title('Model Accuracy')\n",
        "plt.ylabel('Accuracy')\n",
        "plt.xlabel('Epochs')\n",
        "plt.legend(['Training'], loc='upper left');"
      ],
      "execution_count": 53,
      "outputs": [
        {
          "output_type": "display_data",
          "data": {
            "image/png": "[encoded data removed]",
            "text/plain": [
              "<Figure size 432x288 with 1 Axes>"
            ]
          },
          "metadata": {
            "tags": []
          }
        }
      ]
    },
    {
      "cell_type": "markdown",
      "metadata": {
        "id": "P7V5pyAVqNLz",
        "colab_type": "text"
      },
      "source": [
        "**Plotting the Confusion Matrix**"
      ]
    },
    {
      "cell_type": "code",
      "metadata": {
        "id": "we--oA3Ipd8a",
        "colab_type": "code",
        "outputId": "7d2c5067-6883-43c6-8b60-c59aae7bcf61",
        "colab": {
          "base_uri": "https://localhost:8080/",
          "height": 269
        }
      },
      "source": [
        "y_pred = model.predict(testing_padded).argmax(axis=1)\n",
        "cm = confusion_matrix(y_pred=y_pred, y_true=y_test)\n",
        "    \n",
        "cm = cm.astype('float') / cm.sum(axis=1)[:, np.newaxis]\n",
        "    \n",
        "ax=sns.heatmap(cm, annot=True, xticklabels=['Ports','Vessels','Companies','Dates'], yticklabels=['Ports','Vessels','Companies','Dates'], cmap='Blues')\n",
        "ax.set_ylim(4.0, 0)\n",
        "plt.show()"
      ],
      "execution_count": 54,
      "outputs": [
        {
          "output_type": "display_data",
          "data": {
            "image/png": "[encoded data removed]",
            "text/plain": [
              "<Figure size 432x288 with 2 Axes>"
            ]
          },
          "metadata": {
            "tags": []
          }
        }
      ]
    },
    {
      "cell_type": "markdown",
      "metadata": {
        "id": "HZLY-rvECbMv",
        "colab_type": "text"
      },
      "source": [
        "**Print Classification Report**"
      ]
    },
    {
      "cell_type": "code",
      "metadata": {
        "id": "4CK96XxBpndB",
        "colab_type": "code",
        "outputId": "c762bb44-95c0-4dc5-e421-67022c69740c",
        "colab": {
          "base_uri": "https://localhost:8080/",
          "height": 204
        }
      },
      "source": [
        "print(classification_report(y_true= y_test, y_pred = y_pred))"
      ],
      "execution_count": 55,
      "outputs": [
        {
          "output_type": "stream",
          "text": [
            "              precision    recall  f1-score   support\n",
            "\n",
            "           0       0.91      0.98      0.94      1315\n",
            "           1       0.99      0.96      0.97      1372\n",
            "           2       0.98      0.92      0.95      1242\n",
            "           3       1.00      1.00      1.00      1271\n",
            "\n",
            "    accuracy                           0.97      5200\n",
            "   macro avg       0.97      0.97      0.97      5200\n",
            "weighted avg       0.97      0.97      0.97      5200\n",
            "\n"
          ],
          "name": "stdout"
        }
      ]
    },
    {
      "cell_type": "markdown",
      "metadata": {
        "id": "DjXYo0B4M06O",
        "colab_type": "text"
      },
      "source": [
        "**Deep Learning (RNNs)**"
      ]
    },
    {
      "cell_type": "markdown",
      "metadata": {
        "id": "EDtKt6nwNhaI",
        "colab_type": "text"
      },
      "source": [
        "Adding a bidirectional LSTM layer to see the impact on the model and cross validation scores"
      ]
    },
    {
      "cell_type": "markdown",
      "metadata": {
        "id": "tuhqgPatlWID",
        "colab_type": "text"
      },
      "source": [
        "**Cross Validation with LSTM**"
      ]
    },
    {
      "cell_type": "code",
      "metadata": {
        "id": "pa_986YDLVtE",
        "colab_type": "code",
        "outputId": "7496c37b-fe09-41dd-8c90-51809bbcaf53",
        "colab": {
          "base_uri": "https://localhost:8080/",
          "height": 119
        }
      },
      "source": [
        "num_epochs = 10\n",
        "scores = []\n",
        "for train, test in kfold.split(padded, y_train):\n",
        "  model = tf.keras.Sequential([\n",
        "    tf.keras.layers.Embedding(vocab_size, embedding_dim, input_length=max_length),\n",
        "    tf.keras.layers.Bidirectional(tf.keras.layers.LSTM(32, return_sequences=True)),\n",
        "    tf.keras.layers.Bidirectional(tf.keras.layers.LSTM(16)),\n",
        "    tf.keras.layers.Dense(32, activation='relu'),\n",
        "    tf.keras.layers.Dense(16, activation='relu'),\n",
        "    tf.keras.layers.Dense(8, activation='relu'),\n",
        "    tf.keras.layers.Dense(4, activation='softmax')])\n",
        "  model.compile(loss='sparse_categorical_crossentropy',optimizer='adam',metrics=['accuracy'])\n",
        "  model.fit(padded[train], y_train[train], epochs=num_epochs, verbose=0)\n",
        "  score = model.evaluate(padded[test], y_train[test], verbose=0)\n",
        "  print(\"%s: %.2f%%\" % ('Accuracy', score[1]*100))\n",
        "  scores.append(score[1]*100)\n",
        "print(\"%.2f%% (+/- %.2f%%)\" % (np.mean(scores), np.std(scores)))"
      ],
      "execution_count": 92,
      "outputs": [
        {
          "output_type": "stream",
          "text": [
            "Accuracy: 95.65%\n",
            "Accuracy: 95.36%\n",
            "Accuracy: 96.35%\n",
            "Accuracy: 95.86%\n",
            "Accuracy: 96.01%\n",
            "95.85% (+/- 0.33%)\n"
          ],
          "name": "stdout"
        }
      ]
    },
    {
      "cell_type": "markdown",
      "metadata": {
        "id": "4NBInSsclgMM",
        "colab_type": "text"
      },
      "source": [
        "**Predicting on Test Data**"
      ]
    },
    {
      "cell_type": "code",
      "metadata": {
        "id": "Mk3j4UOvkTkz",
        "colab_type": "code",
        "outputId": "9d39d798-ca18-409b-d0c6-7bcbf60fd511",
        "colab": {
          "base_uri": "https://localhost:8080/",
          "height": 391
        }
      },
      "source": [
        "model = tf.keras.Sequential([\n",
        "    tf.keras.layers.Embedding(vocab_size, embedding_dim, input_length=max_length),\n",
        "    tf.keras.layers.Bidirectional(tf.keras.layers.LSTM(32, return_sequences=True)),\n",
        "    tf.keras.layers.Bidirectional(tf.keras.layers.LSTM(16)),\n",
        "    tf.keras.layers.Dense(32, activation='relu'),\n",
        "    tf.keras.layers.Dense(16, activation='relu'),\n",
        "    tf.keras.layers.Dense(8, activation='relu'),\n",
        "    tf.keras.layers.Dense(4, activation='softmax')])\n",
        "model.compile(loss='sparse_categorical_crossentropy',optimizer='adam',metrics=['accuracy'])\n",
        "model.summary()"
      ],
      "execution_count": 96,
      "outputs": [
        {
          "output_type": "stream",
          "text": [
            "Model: \"sequential_34\"\n",
            "_________________________________________________________________\n",
            "Layer (type)                 Output Shape              Param #   \n",
            "=================================================================\n",
            "embedding_35 (Embedding)     (None, 5, 16)             32000     \n",
            "_________________________________________________________________\n",
            "bidirectional_38 (Bidirectio (None, 5, 64)             12544     \n",
            "_________________________________________________________________\n",
            "bidirectional_39 (Bidirectio (None, 32)                10368     \n",
            "_________________________________________________________________\n",
            "dense_115 (Dense)            (None, 32)                1056      \n",
            "_________________________________________________________________\n",
            "dense_116 (Dense)            (None, 16)                528       \n",
            "_________________________________________________________________\n",
            "dense_117 (Dense)            (None, 8)                 136       \n",
            "_________________________________________________________________\n",
            "dense_118 (Dense)            (None, 4)                 36        \n",
            "=================================================================\n",
            "Total params: 56,668\n",
            "Trainable params: 56,668\n",
            "Non-trainable params: 0\n",
            "_________________________________________________________________\n"
          ],
          "name": "stdout"
        }
      ]
    },
    {
      "cell_type": "code",
      "metadata": {
        "id": "GwCNa1QVkcWA",
        "colab_type": "code",
        "colab": {}
      },
      "source": [
        "r = model.fit(padded, y_train, epochs=num_epochs,verbose=0)"
      ],
      "execution_count": 0,
      "outputs": []
    },
    {
      "cell_type": "markdown",
      "metadata": {
        "id": "IRembiEVmbyy",
        "colab_type": "text"
      },
      "source": [
        "**Plotting Loss and Accuracy**"
      ]
    },
    {
      "cell_type": "code",
      "metadata": {
        "id": "qU3ecqs3mWNR",
        "colab_type": "code",
        "outputId": "c33ad385-0154-4470-c68b-1635ccfc7e71",
        "colab": {
          "base_uri": "https://localhost:8080/",
          "height": 295
        }
      },
      "source": [
        "sns.lineplot(x=range(1,num_epochs+1),y=r.history['loss'])\n",
        "#sns.lineplot(x=range(1,num_epochs+1),y=r.history['val_loss'])\n",
        "plt.title('Model Cross Entropy Loss')\n",
        "plt.ylabel('Cross Entropy Loss')\n",
        "plt.xlabel('Epochs')\n",
        "plt.legend(['Training'], loc='upper left');"
      ],
      "execution_count": 98,
      "outputs": [
        {
          "output_type": "display_data",
          "data": {
            "image/png": "[encoded data removed]",
            "text/plain": [
              "<Figure size 432x288 with 1 Axes>"
            ]
          },
          "metadata": {
            "tags": []
          }
        }
      ]
    },
    {
      "cell_type": "code",
      "metadata": {
        "id": "17FQjWWypDin",
        "colab_type": "code",
        "outputId": "dab7be2f-0d83-4232-b0a5-24b8f94e8972",
        "colab": {
          "base_uri": "https://localhost:8080/",
          "height": 295
        }
      },
      "source": [
        "sns.lineplot(x=range(1,num_epochs+1),y=r.history['accuracy'])\n",
        "#sns.lineplot(x=range(1,num_epochs+1),y=r.history['val_accuracy'])\n",
        "plt.title('Model Accuracy')\n",
        "plt.ylabel('Accuracy')\n",
        "plt.xlabel('Epochs')\n",
        "plt.legend(['Training'], loc='upper left');"
      ],
      "execution_count": 99,
      "outputs": [
        {
          "output_type": "display_data",
          "data": {
            "image/png": "[encoded data removed]",
            "text/plain": [
              "<Figure size 432x288 with 1 Axes>"
            ]
          },
          "metadata": {
            "tags": []
          }
        }
      ]
    },
    {
      "cell_type": "markdown",
      "metadata": {
        "id": "J8dt9gzbBm77",
        "colab_type": "text"
      },
      "source": [
        "**Plotting Confusion Matrix**"
      ]
    },
    {
      "cell_type": "code",
      "metadata": {
        "id": "kO3gUrnYN7Xh",
        "colab_type": "code",
        "outputId": "d3c99c9b-32e3-47aa-f5a8-9ac1bcb44194",
        "colab": {
          "base_uri": "https://localhost:8080/",
          "height": 269
        }
      },
      "source": [
        "y_pred = model.predict(testing_padded).argmax(axis=1)\n",
        "cm = confusion_matrix(y_pred=y_pred, y_true=y_test)\n",
        "    \n",
        "cm = cm.astype('float') / cm.sum(axis=1)[:, np.newaxis]\n",
        "    \n",
        "ax=sns.heatmap(cm, annot=True, xticklabels=['Ports','Vessels','Companies','Dates'], yticklabels=['Ports','Vessels','Companies','Dates'], cmap='Blues')\n",
        "ax.set_ylim(4.0, 0)\n",
        "plt.show()"
      ],
      "execution_count": 100,
      "outputs": [
        {
          "output_type": "display_data",
          "data": {
            "image/png": "[encoded data removed]",
            "text/plain": [
              "<Figure size 432x288 with 2 Axes>"
            ]
          },
          "metadata": {
            "tags": []
          }
        }
      ]
    },
    {
      "cell_type": "markdown",
      "metadata": {
        "id": "UCuWS0OiCCoF",
        "colab_type": "text"
      },
      "source": [
        "**Print Classification Report**"
      ]
    },
    {
      "cell_type": "code",
      "metadata": {
        "id": "P_LkuFC0CBXj",
        "colab_type": "code",
        "outputId": "aae6c021-7e07-407f-9406-76a9bddffee4",
        "colab": {
          "base_uri": "https://localhost:8080/",
          "height": 204
        }
      },
      "source": [
        "print(classification_report(y_true= y_test, y_pred = y_pred))"
      ],
      "execution_count": 101,
      "outputs": [
        {
          "output_type": "stream",
          "text": [
            "              precision    recall  f1-score   support\n",
            "\n",
            "           0       0.91      0.98      0.94      1315\n",
            "           1       0.99      0.96      0.97      1372\n",
            "           2       0.98      0.93      0.95      1242\n",
            "           3       1.00      1.00      1.00      1271\n",
            "\n",
            "    accuracy                           0.97      5200\n",
            "   macro avg       0.97      0.97      0.97      5200\n",
            "weighted avg       0.97      0.97      0.97      5200\n",
            "\n"
          ],
          "name": "stdout"
        }
      ]
    },
    {
      "cell_type": "markdown",
      "metadata": {
        "id": "B7hVuMeSsCzQ",
        "colab_type": "text"
      },
      "source": [
        "**Deep Learning (CNNs)**"
      ]
    },
    {
      "cell_type": "markdown",
      "metadata": {
        "id": "Uu1S5dnwBve_",
        "colab_type": "text"
      },
      "source": [
        "**Cross Validation**"
      ]
    },
    {
      "cell_type": "code",
      "metadata": {
        "id": "Xyc7Ck37pYRn",
        "colab_type": "code",
        "outputId": "1dcb1d43-ada0-41f6-c38e-d07f5e842e28",
        "colab": {
          "base_uri": "https://localhost:8080/",
          "height": 119
        }
      },
      "source": [
        "num_epochs = 10\n",
        "scores = []\n",
        "for train, test in kfold.split(padded, y_train):\n",
        "  model = tf.keras.Sequential([\n",
        "    tf.keras.layers.Embedding(vocab_size, embedding_dim, input_length=max_length),\n",
        "    tf.keras.layers.Dropout(0.2),\n",
        "    tf.keras.layers.Conv1D(64, 2, activation='relu'),\n",
        "    tf.keras.layers.MaxPooling1D(pool_size=2),\n",
        "    tf.keras.layers.Flatten(),\n",
        "    tf.keras.layers.Dense(16, activation='relu'),\n",
        "    tf.keras.layers.Dense(8, activation='relu'),\n",
        "    tf.keras.layers.Dense(4, activation='softmax')])\n",
        "  model.compile(loss='sparse_categorical_crossentropy',optimizer='adam',metrics=['accuracy'])\n",
        "  model.fit(padded[train], y_train[train], epochs=num_epochs, verbose=0)\n",
        "  score = model.evaluate(padded[test], y_train[test], verbose=0)\n",
        "  print(\"%s: %.2f%%\" % ('Accuracy', score[1]*100))\n",
        "  scores.append(score[1]*100)\n",
        "print(\"%.2f%% (+/- %.2f%%)\" % (np.mean(scores), np.std(scores)))"
      ],
      "execution_count": 85,
      "outputs": [
        {
          "output_type": "stream",
          "text": [
            "Accuracy: 95.75%\n",
            "Accuracy: 96.37%\n",
            "Accuracy: 96.42%\n",
            "Accuracy: 96.13%\n",
            "Accuracy: 95.77%\n",
            "96.09% (+/- 0.29%)\n"
          ],
          "name": "stdout"
        }
      ]
    },
    {
      "cell_type": "markdown",
      "metadata": {
        "id": "ZCaYcnqACM8u",
        "colab_type": "text"
      },
      "source": [
        "**Predicting on Test Data**"
      ]
    },
    {
      "cell_type": "code",
      "metadata": {
        "id": "jsVGjeTTOU0r",
        "colab_type": "code",
        "outputId": "c77578b7-9f6f-449f-80d3-2e1f24a847e5",
        "colab": {
          "base_uri": "https://localhost:8080/",
          "height": 425
        }
      },
      "source": [
        "model = tf.keras.Sequential([\n",
        "    tf.keras.layers.Embedding(vocab_size, embedding_dim, input_length=max_length),\n",
        "    tf.keras.layers.Dropout(0.2),\n",
        "    tf.keras.layers.Conv1D(64, 2, activation='relu'),\n",
        "    tf.keras.layers.MaxPooling1D(pool_size=2),\n",
        "    tf.keras.layers.Flatten(),\n",
        "    tf.keras.layers.Dense(16, activation='relu'),\n",
        "    tf.keras.layers.Dense(8, activation='relu'),\n",
        "    tf.keras.layers.Dense(4, activation='softmax')])\n",
        "model.compile(loss='sparse_categorical_crossentropy',optimizer='adam',metrics=['accuracy'])\n",
        "model.summary()"
      ],
      "execution_count": 86,
      "outputs": [
        {
          "output_type": "stream",
          "text": [
            "Model: \"sequential_27\"\n",
            "_________________________________________________________________\n",
            "Layer (type)                 Output Shape              Param #   \n",
            "=================================================================\n",
            "embedding_28 (Embedding)     (None, 5, 16)             32000     \n",
            "_________________________________________________________________\n",
            "dropout_9 (Dropout)          (None, 5, 16)             0         \n",
            "_________________________________________________________________\n",
            "conv1d_15 (Conv1D)           (None, 4, 64)             2112      \n",
            "_________________________________________________________________\n",
            "max_pooling1d_14 (MaxPooling (None, 2, 64)             0         \n",
            "_________________________________________________________________\n",
            "flatten_13 (Flatten)         (None, 128)               0         \n",
            "_________________________________________________________________\n",
            "dense_88 (Dense)             (None, 16)                2064      \n",
            "_________________________________________________________________\n",
            "dense_89 (Dense)             (None, 8)                 136       \n",
            "_________________________________________________________________\n",
            "dense_90 (Dense)             (None, 4)                 36        \n",
            "=================================================================\n",
            "Total params: 36,348\n",
            "Trainable params: 36,348\n",
            "Non-trainable params: 0\n",
            "_________________________________________________________________\n"
          ],
          "name": "stdout"
        }
      ]
    },
    {
      "cell_type": "code",
      "metadata": {
        "id": "Q8AMjHQwm-3V",
        "colab_type": "code",
        "colab": {}
      },
      "source": [
        "r = model.fit(padded, y_train, epochs=num_epochs,verbose=0)"
      ],
      "execution_count": 0,
      "outputs": []
    },
    {
      "cell_type": "markdown",
      "metadata": {
        "id": "11sDeXIMBegw",
        "colab_type": "text"
      },
      "source": [
        "**Plotting Loss and Accuracy**"
      ]
    },
    {
      "cell_type": "code",
      "metadata": {
        "id": "d_NISMvIo7Az",
        "colab_type": "code",
        "outputId": "31b65d6e-9698-46a8-9beb-bef53d00b475",
        "colab": {
          "base_uri": "https://localhost:8080/",
          "height": 295
        }
      },
      "source": [
        "sns.lineplot(x=range(1,num_epochs+1),y=r.history['loss'])\n",
        "#sns.lineplot(x=range(1,num_epochs+1),y=r.history['val_loss'])\n",
        "plt.title('Model Cross Entropy Loss')\n",
        "plt.ylabel('Cross Entropy Loss')\n",
        "plt.xlabel('Epochs')\n",
        "plt.legend(['Training'], loc='upper left');"
      ],
      "execution_count": 88,
      "outputs": [
        {
          "output_type": "display_data",
          "data": {
            "image/png": "[encoded data removed]",
            "text/plain": [
              "<Figure size 432x288 with 1 Axes>"
            ]
          },
          "metadata": {
            "tags": []
          }
        }
      ]
    },
    {
      "cell_type": "code",
      "metadata": {
        "id": "PJipbqRIpFQO",
        "colab_type": "code",
        "outputId": "92894085-bca0-4d81-9ce5-1d3210fd9b11",
        "colab": {
          "base_uri": "https://localhost:8080/",
          "height": 295
        }
      },
      "source": [
        "sns.lineplot(x=range(1,num_epochs+1),y=r.history['accuracy'])\n",
        "#sns.lineplot(x=range(1,num_epochs+1),y=r.history['val_acc'])\n",
        "plt.title('Model Accuracy')\n",
        "plt.ylabel('Accuracy')\n",
        "plt.xlabel('Epochs')\n",
        "plt.legend(['Training'], loc='upper left');"
      ],
      "execution_count": 89,
      "outputs": [
        {
          "output_type": "display_data",
          "data": {
            "image/png": "[encoded data removed]",
            "text/plain": [
              "<Figure size 432x288 with 1 Axes>"
            ]
          },
          "metadata": {
            "tags": []
          }
        }
      ]
    },
    {
      "cell_type": "markdown",
      "metadata": {
        "id": "y0NcOYJGB6ri",
        "colab_type": "text"
      },
      "source": [
        "**Plotting Confusion Matrix**"
      ]
    },
    {
      "cell_type": "code",
      "metadata": {
        "id": "W6OtvoQSoB8p",
        "colab_type": "code",
        "outputId": "7d37f977-1bfa-4ad4-fe5f-122edcc7da4a",
        "colab": {
          "base_uri": "https://localhost:8080/",
          "height": 269
        }
      },
      "source": [
        "y_pred = model.predict(testing_padded).argmax(axis=1)\n",
        "cm = confusion_matrix(y_pred=y_pred, y_true=y_test)\n",
        "    \n",
        "cm = cm.astype('float') / cm.sum(axis=1)[:, np.newaxis]\n",
        "    \n",
        "ax=sns.heatmap(cm, annot=True, xticklabels=['Ports','Vessels','Companies','Dates'], yticklabels=['Ports','Vessels','Companies','Dates'], cmap='Blues')\n",
        "ax.set_ylim(4.0, 0)\n",
        "plt.show()"
      ],
      "execution_count": 90,
      "outputs": [
        {
          "output_type": "display_data",
          "data": {
            "image/png": "[encoded data removed]",
            "text/plain": [
              "<Figure size 432x288 with 2 Axes>"
            ]
          },
          "metadata": {
            "tags": []
          }
        }
      ]
    },
    {
      "cell_type": "markdown",
      "metadata": {
        "id": "_BSiHeV5B0Oc",
        "colab_type": "text"
      },
      "source": [
        "**Print Classification Report**"
      ]
    },
    {
      "cell_type": "code",
      "metadata": {
        "id": "FltrFheLos9y",
        "colab_type": "code",
        "outputId": "234c966b-3f41-463b-cbcd-7fa8964a0eb6",
        "colab": {
          "base_uri": "https://localhost:8080/",
          "height": 204
        }
      },
      "source": [
        "print(classification_report(y_true= y_test, y_pred = y_pred))"
      ],
      "execution_count": 91,
      "outputs": [
        {
          "output_type": "stream",
          "text": [
            "              precision    recall  f1-score   support\n",
            "\n",
            "           0       0.90      0.98      0.94      1315\n",
            "           1       0.99      0.96      0.98      1372\n",
            "           2       0.98      0.93      0.95      1242\n",
            "           3       1.00      1.00      1.00      1271\n",
            "\n",
            "    accuracy                           0.97      5200\n",
            "   macro avg       0.97      0.97      0.97      5200\n",
            "weighted avg       0.97      0.97      0.97      5200\n",
            "\n"
          ],
          "name": "stdout"
        }
      ]
    },
    {
      "cell_type": "code",
      "metadata": {
        "id": "4k3bmrEfNFuP",
        "colab_type": "code",
        "colab": {}
      },
      "source": [
        ""
      ],
      "execution_count": 0,
      "outputs": []
    }
  ]
}