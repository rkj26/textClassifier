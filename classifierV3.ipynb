{
  "nbformat": 4,
  "nbformat_minor": 0,
  "metadata": {
    "colab": {
      "name": "classifier.ipynb",
      "provenance": [],
      "include_colab_link": true
    },
    "kernelspec": {
      "name": "python3",
      "display_name": "Python 3"
    },
    "accelerator": "TPU"
  },
  "cells": [
    {
      "cell_type": "markdown",
      "metadata": {
        "id": "view-in-github",
        "colab_type": "text"
      },
      "source": [
        "<a href=\"https://colab.research.google.com/github/rkj26/textClassifier/blob/master/classifierV3.ipynb\" target=\"_parent\"><img src=\"https://colab.research.google.com/assets/colab-badge.svg\" alt=\"Open In Colab\"/></a>"
      ]
    },
    {
      "cell_type": "code",
      "metadata": {
        "id": "59Pvj8SvCSzW",
        "colab_type": "code",
        "colab": {}
      },
      "source": [
        "# Run this cell when running in Google Colab\n",
        "%%capture\n",
        "!apt-get update # to update ubuntu to correctly run apt install\n",
        "!apt install chromium-chromedriver\n",
        "!cp /usr/lib/chromium-browser/chromedriver /usr/bin\n",
        "import sys\n",
        "sys.path.insert(0,'/usr/lib/chromium-browser/chromedriver')\n",
        "!pip install selenium"
      ],
      "execution_count": 0,
      "outputs": []
    },
    {
      "cell_type": "code",
      "metadata": {
        "id": "lSnux9wWknaG",
        "colab_type": "code",
        "colab": {}
      },
      "source": [
        "import re\n",
        "from string import ascii_uppercase\n",
        "import pandas as pd\n",
        "import numpy as np\n",
        "from selenium import webdriver\n",
        "from bs4 import BeautifulSoup\n",
        "from selenium.webdriver.common.by import By\n",
        "from selenium.webdriver.support.ui import WebDriverWait\n",
        "from selenium.webdriver.support import expected_conditions as EC\n",
        "import string"
      ],
      "execution_count": 0,
      "outputs": []
    },
    {
      "cell_type": "code",
      "metadata": {
        "id": "y6SEMmZX24sj",
        "colab_type": "code",
        "colab": {}
      },
      "source": [
        "from sklearn.metrics import confusion_matrix\n",
        "import seaborn as sns\n",
        "from sklearn.metrics import classification_report"
      ],
      "execution_count": 0,
      "outputs": []
    },
    {
      "cell_type": "code",
      "metadata": {
        "id": "Qj4iz_aO0f0V",
        "colab_type": "code",
        "colab": {}
      },
      "source": [
        "%matplotlib inline\n",
        "import matplotlib.pyplot as plt\n",
        "import seaborn as sns"
      ],
      "execution_count": 0,
      "outputs": []
    },
    {
      "cell_type": "code",
      "metadata": {
        "id": "6Npk3FsVrC9a",
        "colab_type": "code",
        "colab": {}
      },
      "source": [
        "from random import randint\n",
        "import datetime"
      ],
      "execution_count": 0,
      "outputs": []
    },
    {
      "cell_type": "code",
      "metadata": {
        "id": "ayeOOWVs-H0N",
        "colab_type": "code",
        "colab": {}
      },
      "source": [
        "chrome_options = webdriver.ChromeOptions()\n",
        "chrome_options.add_argument('--headless')\n",
        "chrome_options.add_argument('--no-sandbox')\n",
        "chrome_options.add_argument('--disable-dev-shm-usage')"
      ],
      "execution_count": 0,
      "outputs": []
    },
    {
      "cell_type": "markdown",
      "metadata": {
        "id": "ZvpAduP7QfO7",
        "colab_type": "text"
      },
      "source": [
        "**Adding more elements to the vessels array**"
      ]
    },
    {
      "cell_type": "code",
      "metadata": {
        "id": "MmpCxn34bZRF",
        "colab_type": "code",
        "colab": {}
      },
      "source": [
        "ports = []\n",
        "vessels_new = []\n",
        "companies = []\n",
        "dates = []"
      ],
      "execution_count": 0,
      "outputs": []
    },
    {
      "cell_type": "code",
      "metadata": {
        "id": "NTBJp7u2mVda",
        "colab_type": "code",
        "colab": {}
      },
      "source": [
        "temp = 'https://directories.lloydslist.com/port-browse-name/searchid/0/searchchar/'  #This part is link of the search query that is constant so I decided to hardcode it\n",
        "wd = webdriver.Chrome('chromedriver',options=chrome_options)\n",
        "for c in ascii_uppercase:\n",
        "  i = 1\n",
        "  url = temp + c # Go over all the letters in alphabets and store the ports\n",
        "  while(True):              # As each page has different number of results, using try and except to break the loop when there are no results left to store.\n",
        "    try:\n",
        "      if i == 1:\n",
        "        wd.get(url=url)\n",
        "        souplevel = BeautifulSoup(wd.page_source, 'lxml')\n",
        "      else:\n",
        "        button = wd.find_element_by_link_text(str(i))\n",
        "        button.click()\n",
        "        souplevel = BeautifulSoup(wd.page_source, 'lxml')\n",
        "\n",
        "      for child in souplevel.find_all('a', href=re.compile('port-browse-listing/portid')): #All ports are stored using this template therefore used regular expression to find all <a href = ''></a> tags and stored their text. \n",
        "        if child.text != 'Learn More':\n",
        "          ports.append(child.text) \n",
        "    \n",
        "      i+=1\n",
        "    except:\n",
        "      break"
      ],
      "execution_count": 0,
      "outputs": []
    },
    {
      "cell_type": "code",
      "metadata": {
        "colab_type": "code",
        "id": "qCu2cCCr2KGT",
        "colab": {}
      },
      "source": [
        "wd = webdriver.Chrome('chromedriver',options=chrome_options)\n",
        "wd.get('https://www.fleetmon.com/vessels/')\n",
        "noPages = 300\n",
        "for page in range(noPages):\n",
        "  soup = BeautifulSoup(wd.page_source, 'lxml')\n",
        "  temp = []\n",
        "  for child in soup.find_all('a', href=re.compile('/vessels/')):\n",
        "    temp.append(child.text)\n",
        "  vessels_new = vessels_new +temp[2:22]\n",
        "  # button = WebDriverWait(wd, 20).until(EC.presence_of_element_located((By.ID, 'vesselsearch_table_next')))\n",
        "  # button.click()\n",
        "  element = wd.find_element_by_id('vesselsearch_table_next')\n",
        "  wd.execute_script(\"arguments[0].click();\", element)\n"
      ],
      "execution_count": 0,
      "outputs": []
    },
    {
      "cell_type": "code",
      "metadata": {
        "id": "nnYyarQ8A6rJ",
        "colab_type": "code",
        "colab": {}
      },
      "source": [
        "NO_OF_PAGES=25 #Only 25 pages to view therefore hard coded it.\n",
        "wd = webdriver.Chrome('chromedriver',options=chrome_options)\n",
        "url = 'https://www.marinetraffic.com/en/data/?asset_type=vessels&columns=flag,shipname,photo,recognized_next_port,reported_eta,reported_destination,current_port,imo,ship_type,show_on_live_map,time_of_latest_position,lat_of_latest_position,lon_of_latest_position'\n",
        "wd.get(url=url)\n",
        "for i in range(NO_OF_PAGES):\n",
        "  button = WebDriverWait(wd, 20).until(EC.presence_of_element_located((By.XPATH, '//*[@id=\"reporting_ag_grid\"]/div/div[2]/div[3]/div/div/div/div/div[3]/button[2]')))\n",
        "  if i!=0:\n",
        "    button.click()\n",
        "  soup = BeautifulSoup(wd.page_source, 'lxml')\n",
        "  for element in soup.find_all('a', href=re.compile('/en/ais/details/ships/')): #Similar thought as the for port web scrapper.\n",
        "    vessels_new.append(element.text)"
      ],
      "execution_count": 0,
      "outputs": []
    },
    {
      "cell_type": "code",
      "metadata": {
        "id": "3djI4lRVOtzY",
        "colab_type": "code",
        "colab": {}
      },
      "source": [
        "url = 'https://opencorporates.com/registers'\n",
        "wd = webdriver.Chrome('chromedriver',options=chrome_options)\n",
        "wd.get(url)\n",
        "soup = BeautifulSoup(wd.page_source, 'lxml')\n",
        "numberOfRegistries = int(soup.find(id='DataTables_Table_0_info').text.split(' ')[-2]) #Finding out the number of registries\n",
        "for i in range(numberOfRegistries):\n",
        "  xpath = '//*[@id=\"DataTables_Table_0\"]/tbody/tr['+str(i+1)+']/td[3]/a' #Every row of the table and third column which is a clickable link to the companies.\n",
        "  companiesLink = WebDriverWait(wd, 20).until(EC.presence_of_element_located((By.XPATH, xpath)))\n",
        "  companiesLink.click()\n",
        "  lookup = str(wd.current_url)[26:]+'/'  #Lookup for the directory link which is used for every company in the registry\n",
        "\n",
        "  for j in range(3): \n",
        "    if j != 0:\n",
        "      nextPath = '//*[@id=\"results\"]/div/div[1]/ul/li[8]/a'  #XPath for the next button\n",
        "      nextButton = wd.find_element_by_xpath(nextPath)\n",
        "      nextButton.click()\n",
        "        \n",
        "    subSoup = BeautifulSoup(wd.page_source, 'lxml')\n",
        "    for k in subSoup.find_all('a', href=re.compile(lookup)):\n",
        "      companies.append(k.text)\n",
        "  wd.get(url)"
      ],
      "execution_count": 0,
      "outputs": []
    },
    {
      "cell_type": "code",
      "metadata": {
        "id": "vUuWGjPVQ8h5",
        "colab_type": "code",
        "colab": {}
      },
      "source": [
        "ports = np.array(ports)\n",
        "vessels = np.array(vessels_new)\n",
        "companies = np.array(companies)"
      ],
      "execution_count": 0,
      "outputs": []
    },
    {
      "cell_type": "code",
      "metadata": {
        "id": "kUZPzZt9lv71",
        "colab_type": "code",
        "colab": {}
      },
      "source": [
        "def dateGenerator():\n",
        "  i = randint(0,4)\n",
        "  dd, mm, yyyy = randomGenerator()\n",
        "  correct = check_date(yyyy, mm, dd)\n",
        "  if correct:\n",
        "    date = datetime.datetime(yyyy, mm, dd)\n",
        "    if i==0:\n",
        "      date = \"{0:0=2d}\".format(dd)+'/'+\"{0:0=2d}\".format(mm)+'/'+str(yyyy)\n",
        "    elif i==1:\n",
        "      date = \"{0:0=2d}\".format(mm)+'/'+\"{0:0=2d}\".format(dd)+'/'+str(yyyy)\n",
        "    elif i==2:\n",
        "      date = str(yyyy)+'/'+\"{0:0=2d}\".format(mm)+'/'+\"{0:0=2d}\".format(dd)\n",
        "    elif i==3:\n",
        "      date = date.strftime(\"%b %d %Y\")\n",
        "    elif i==4:\n",
        "      date = date.strftime(\"%B %d %Y\")\n",
        "    return date\n",
        "  else:\n",
        "    return dateGenerator()"
      ],
      "execution_count": 0,
      "outputs": []
    },
    {
      "cell_type": "code",
      "metadata": {
        "id": "KTboWMQRyxB3",
        "colab_type": "code",
        "colab": {}
      },
      "source": [
        "def randomGenerator():\n",
        "  dd = randint(1,31)\n",
        "  mm = randint(1,12)\n",
        "  yyyy = randint(1970, 2020)\n",
        "  return dd, mm, yyyy"
      ],
      "execution_count": 0,
      "outputs": []
    },
    {
      "cell_type": "code",
      "metadata": {
        "id": "v4aGQwoUsZsN",
        "colab_type": "code",
        "colab": {}
      },
      "source": [
        "def check_date(year, month, day):\n",
        "    correctDate = None\n",
        "    try:\n",
        "        newDate = datetime.datetime(year, month, day)\n",
        "        correctDate = True\n",
        "    except ValueError:\n",
        "        correctDate = False\n",
        "    return correctDate"
      ],
      "execution_count": 0,
      "outputs": []
    },
    {
      "cell_type": "code",
      "metadata": {
        "id": "dZjVZ59oq2pH",
        "colab_type": "code",
        "colab": {}
      },
      "source": [
        "for i in range(6500):\n",
        "  dates.append(dateGenerator())"
      ],
      "execution_count": 0,
      "outputs": []
    },
    {
      "cell_type": "code",
      "metadata": {
        "id": "fYeFZ6AhWiVc",
        "colab_type": "code",
        "colab": {}
      },
      "source": [
        "df = pd.DataFrame(columns=['Text', 'Target'])\n",
        "np.random.shuffle(ports)\n",
        "np.random.shuffle(companies)\n",
        "np.random.shuffle(vessels)"
      ],
      "execution_count": 0,
      "outputs": []
    },
    {
      "cell_type": "markdown",
      "metadata": {
        "id": "B7IQcRh4VnqI",
        "colab_type": "text"
      },
      "source": [
        "**Creating a shuffled dataset with 26000 entries. Each class has 6500 samples**"
      ]
    },
    {
      "cell_type": "code",
      "metadata": {
        "id": "M-nGvbWCW3lp",
        "colab_type": "code",
        "colab": {}
      },
      "source": [
        "i = 0 \n",
        "for port in ports:\n",
        "  if i <6500:\n",
        "    port = port.lower()\n",
        "    #df = df.append({'Text':port, 'Target': 0}, ignore_index=True)\n",
        "    port = port.translate(str.maketrans(string.punctuation,' '*len(string.punctuation)))\n",
        "    port = ' '.join(port.split())\n",
        "    df = df.append({'Text':port, 'Target': 0}, ignore_index=True)\n",
        "    i += 1\n",
        "  else:\n",
        "    i = 0\n",
        "    break\n",
        "\n",
        "for vessel in vessels:\n",
        "  if i <6500:\n",
        "    vessel = vessel.lower()\n",
        "    #df = df.append({'Text':vessel, 'Target': 1}, ignore_index=True)\n",
        "    vessel = vessel.translate(str.maketrans(string.punctuation,' '*len(string.punctuation)))\n",
        "    vessel = ' '.join(vessel.split())\n",
        "    df = df.append({'Text':vessel, 'Target': 1}, ignore_index=True)\n",
        "    i += 1\n",
        "  else:\n",
        "    i = 0\n",
        "    break\n",
        "\n",
        "i = 0\n",
        "for company in companies:\n",
        "  if i<6500:\n",
        "    company = str(company)\n",
        "    company = company.lower()\n",
        "    #df = df.append({'Text':company, 'Target': 2}, ignore_index=True)\n",
        "    company = company.translate(str.maketrans(string.punctuation,' '*len(string.punctuation)))\n",
        "    company = ' '.join(company.split())\n",
        "    df = df.append({'Text':company, 'Target': 2}, ignore_index=True)\n",
        "    i+=1\n",
        "  else:\n",
        "    i = 0\n",
        "    break\n",
        "\n",
        "\n",
        "for date in dates:\n",
        "  if i<6500:\n",
        "    date = str(date)\n",
        "    date = date.lower()\n",
        "    date = date.translate(str.maketrans(string.punctuation,' '*len(string.punctuation)))\n",
        "    #df = df.append({'Text':date, 'Target': 3}, ignore_index=True)\n",
        "    date = ' '.join(date.split())\n",
        "    df = df.append({'Text':date, 'Target': 3}, ignore_index=True)\n",
        "    i+=1\n",
        "  else:\n",
        "    i = 0\n",
        "    break\n"
      ],
      "execution_count": 0,
      "outputs": []
    },
    {
      "cell_type": "code",
      "metadata": {
        "id": "KgOkSlRW36y8",
        "colab_type": "code",
        "colab": {}
      },
      "source": [
        "#df.drop_duplicates(inplace=True)\n",
        "df = df.reset_index(drop=True)"
      ],
      "execution_count": 0,
      "outputs": []
    },
    {
      "cell_type": "code",
      "metadata": {
        "id": "6WCPlcjUG-jT",
        "colab_type": "code",
        "colab": {}
      },
      "source": [
        "X = df['Text'].values\n",
        "y = df['Target'].values"
      ],
      "execution_count": 0,
      "outputs": []
    },
    {
      "cell_type": "markdown",
      "metadata": {
        "id": "PtlvAeHmVzJX",
        "colab_type": "text"
      },
      "source": [
        "**Splitting dataset to Train: 75%, Validate: 15% Test: 10%**"
      ]
    },
    {
      "cell_type": "code",
      "metadata": {
        "id": "Z3Sq60zNG14J",
        "colab_type": "code",
        "colab": {}
      },
      "source": [
        "from sklearn.model_selection import train_test_split\n",
        "X_train, X_val, y_train, y_val = train_test_split(X,y,test_size = 0.2, random_state=42,shuffle=True, stratify=y)\n",
        "X_val, X_test, y_val, y_test = train_test_split(X_val,y_val,test_size = 0.4, random_state=42,shuffle=True, stratify= y_val)"
      ],
      "execution_count": 0,
      "outputs": []
    },
    {
      "cell_type": "code",
      "metadata": {
        "id": "mFPPPVofJHAW",
        "colab_type": "code",
        "colab": {}
      },
      "source": [
        "y_train=y_train.astype('int')\n",
        "y_test=y_test.astype('int')\n",
        "y_val = y_val.astype('int')"
      ],
      "execution_count": 0,
      "outputs": []
    },
    {
      "cell_type": "markdown",
      "metadata": {
        "id": "XFE00gYrV6xn",
        "colab_type": "text"
      },
      "source": [
        "**Pipeline for the preprocessing using CountVectorizer and TF-IDF and using an stacked model of Logistic Regression and RandomForest (no hyper-parameter tuning)**"
      ]
    },
    {
      "cell_type": "code",
      "metadata": {
        "id": "5yptiHcTDmI1",
        "colab_type": "code",
        "colab": {}
      },
      "source": [
        "from sklearn.linear_model import LogisticRegression\n",
        "from sklearn.ensemble import RandomForestClassifier\n",
        "from sklearn.ensemble import ExtraTreesClassifier\n",
        "from sklearn.svm import SVC\n",
        "from sklearn.ensemble import GradientBoostingClassifier\n",
        "from sklearn.feature_extraction.text import TfidfTransformer\n",
        "from sklearn.feature_extraction.text import CountVectorizer\n",
        "from sklearn.pipeline import Pipeline\n",
        "from mlxtend.classifier import StackingClassifier\n",
        "lr = LogisticRegression()\n",
        "rf = RandomForestClassifier()\n",
        "gradB = GradientBoostingClassifier\n",
        "\n",
        "text_clf = Pipeline([('vect', CountVectorizer(stop_words='english')),\n",
        "                     ('tfidf', TfidfTransformer()),\n",
        "                     ('clf', StackingClassifier(classifiers=[LogisticRegression(), RandomForestClassifier()], \n",
        "                          meta_classifier=GradientBoostingClassifier()))])"
      ],
      "execution_count": 0,
      "outputs": []
    },
    {
      "cell_type": "code",
      "metadata": {
        "id": "4OgI-YHrIjeR",
        "colab_type": "code",
        "colab": {}
      },
      "source": [
        "text_clf.fit(X_train, y_train)"
      ],
      "execution_count": 0,
      "outputs": []
    },
    {
      "cell_type": "markdown",
      "metadata": {
        "id": "J1LDAq5fWS05",
        "colab_type": "text"
      },
      "source": [
        "**Cross Validation using 5-folds stratified**"
      ]
    },
    {
      "cell_type": "code",
      "metadata": {
        "id": "Z6kKzFUF1avG",
        "colab_type": "code",
        "colab": {}
      },
      "source": [
        "from sklearn.model_selection import StratifiedKFold\n",
        "from sklearn.model_selection import cross_val_score\n",
        "kfold = StratifiedKFold(n_splits = 5, shuffle = True, random_state = 42)"
      ],
      "execution_count": 0,
      "outputs": []
    },
    {
      "cell_type": "code",
      "metadata": {
        "id": "XhG4gk6UR7mH",
        "colab_type": "code",
        "colab": {}
      },
      "source": [
        "cv_score = cross_val_score(text_clf, X_train, y_train, n_jobs =-1, scoring='accuracy', cv=kfold)\n",
        "print('Accuracy of the stacked model is: {}'.format(cv_score.mean()*100))"
      ],
      "execution_count": 0,
      "outputs": []
    },
    {
      "cell_type": "markdown",
      "metadata": {
        "id": "q9UIBKL8VQ7D",
        "colab_type": "text"
      },
      "source": [
        "**Checking results on actual test set**"
      ]
    },
    {
      "cell_type": "code",
      "metadata": {
        "id": "OJP-b3g9Iq56",
        "colab_type": "code",
        "colab": {}
      },
      "source": [
        "y_pred = text_clf.predict(X_test)"
      ],
      "execution_count": 0,
      "outputs": []
    },
    {
      "cell_type": "code",
      "metadata": {
        "id": "d7jYEYSuJiQ9",
        "colab_type": "code",
        "colab": {}
      },
      "source": [
        "\n",
        "cm = confusion_matrix(y_pred=y_pred, y_true=y_test)\n",
        "    \n",
        "cm = cm.astype('float') / cm.sum(axis=1)[:, np.newaxis]\n",
        "    \n",
        "ax=sns.heatmap(cm, annot=True, xticklabels=['Ports','Vessels','Companies','Dates'], yticklabels=['Ports','Vessels','Companies','Dates'], cmap='Blues')\n",
        "ax.set_ylim(4.0, 0)\n",
        "plt.show()"
      ],
      "execution_count": 0,
      "outputs": []
    },
    {
      "cell_type": "code",
      "metadata": {
        "id": "bQOWL-ryJp82",
        "colab_type": "code",
        "outputId": "f7681287-45e5-4dbd-abd8-396ef0fecb84",
        "colab": {
          "base_uri": "https://localhost:8080/",
          "height": 204
        }
      },
      "source": [
        "from sklearn.metrics import classification_report\n",
        "print(classification_report(y_true= y_test, y_pred = y_pred))"
      ],
      "execution_count": 0,
      "outputs": [
        {
          "output_type": "stream",
          "text": [
            "              precision    recall  f1-score   support\n",
            "\n",
            "           0       0.95      0.30      0.46       641\n",
            "           1       0.83      0.29      0.43        52\n",
            "           2       0.56      0.97      0.71       637\n",
            "           3       0.98      1.00      0.99       624\n",
            "\n",
            "    accuracy                           0.74      1954\n",
            "   macro avg       0.83      0.64      0.65      1954\n",
            "weighted avg       0.83      0.74      0.71      1954\n",
            "\n"
          ],
          "name": "stdout"
        }
      ]
    },
    {
      "cell_type": "markdown",
      "metadata": {
        "id": "hWR-sqSZ_yyL",
        "colab_type": "text"
      },
      "source": [
        "**Deep Learning Implementation** (basic model)"
      ]
    },
    {
      "cell_type": "code",
      "metadata": {
        "id": "CrNZtMZlpy7d",
        "colab_type": "code",
        "outputId": "51290fdf-1db3-4844-c060-085815d318e9",
        "colab": {
          "base_uri": "https://localhost:8080/",
          "height": 119
        }
      },
      "source": [
        "try:\n",
        "  %tensorflow_version 2.x  # Colab only.\n",
        "except Exception:\n",
        "  pass\n",
        "\n",
        "import tensorflow as tf\n",
        "print(tf.__version__)"
      ],
      "execution_count": 21,
      "outputs": [
        {
          "output_type": "stream",
          "text": [
            "`%tensorflow_version` only switches the major version: `1.x` or `2.x`.\n",
            "You set: `2.x  # Colab only.`. This will be interpreted as: `2.x`.\n",
            "\n",
            "\n",
            "TensorFlow 2.x selected.\n",
            "2.1.0\n"
          ],
          "name": "stdout"
        }
      ]
    },
    {
      "cell_type": "code",
      "metadata": {
        "id": "6f7svichWezH",
        "colab_type": "code",
        "colab": {}
      },
      "source": [
        "from tensorflow.keras.preprocessing.text import Tokenizer\n",
        "from tensorflow.keras.preprocessing.sequence import pad_sequences"
      ],
      "execution_count": 0,
      "outputs": []
    },
    {
      "cell_type": "code",
      "metadata": {
        "id": "veI0fypIec6I",
        "colab_type": "code",
        "colab": {}
      },
      "source": [
        "vocab_size = 2500\n",
        "embedding_dim = 16\n",
        "max_length = 5\n",
        "trunc_type='post'\n",
        "oov_tok = '<OOV>'"
      ],
      "execution_count": 0,
      "outputs": []
    },
    {
      "cell_type": "code",
      "metadata": {
        "id": "KXmtgCSReyuY",
        "colab_type": "code",
        "colab": {}
      },
      "source": [
        "tokenizer = Tokenizer(num_words = vocab_size, oov_token=oov_tok)\n",
        "tokenizer.fit_on_texts(X_train)\n",
        "word_index = tokenizer.word_index\n",
        "sequences = tokenizer.texts_to_sequences(X_train)\n",
        "padded = pad_sequences(sequences,maxlen=max_length, truncating=trunc_type)"
      ],
      "execution_count": 0,
      "outputs": []
    },
    {
      "cell_type": "code",
      "metadata": {
        "id": "W7bwARGgdPeE",
        "colab_type": "code",
        "colab": {}
      },
      "source": [
        "val_sequences = tokenizer.texts_to_sequences(X_val)\n",
        "val_padded = pad_sequences(val_sequences,maxlen=max_length)"
      ],
      "execution_count": 0,
      "outputs": []
    },
    {
      "cell_type": "code",
      "metadata": {
        "id": "YIjUkPfPe62A",
        "colab_type": "code",
        "colab": {}
      },
      "source": [
        "testing_sequences = tokenizer.texts_to_sequences(X_test)\n",
        "testing_padded = pad_sequences(testing_sequences,maxlen=max_length)"
      ],
      "execution_count": 0,
      "outputs": []
    },
    {
      "cell_type": "markdown",
      "metadata": {
        "id": "UNb9nPz3I2X7",
        "colab_type": "text"
      },
      "source": [
        "**Cross Validation**"
      ]
    },
    {
      "cell_type": "code",
      "metadata": {
        "id": "YezF1RmTz0wo",
        "colab_type": "code",
        "outputId": "d5e40a54-dcd6-4720-c82e-46fdc85d151b",
        "colab": {
          "base_uri": "https://localhost:8080/",
          "height": 119
        }
      },
      "source": [
        "num_epochs = 30\n",
        "scores = []\n",
        "for train, test in kfold.split(padded, y_train):\n",
        "  model = tf.keras.Sequential([\n",
        "    tf.keras.layers.Embedding(vocab_size, embedding_dim, input_length=max_length),\n",
        "    tf.keras.layers.Flatten(),\n",
        "    tf.keras.layers.Dense(6, activation='relu'),\n",
        "    tf.keras.layers.Dense(4, activation='softmax')])\n",
        "  model.compile(loss='sparse_categorical_crossentropy',optimizer='adam',metrics=['accuracy'])\n",
        "  model.fit(padded[train], y_train[train], epochs=num_epochs, verbose=0)\n",
        "  score = model.evaluate(padded[test], y_train[test], verbose=0)\n",
        "  print(\"%s: %.2f%%\" % ('Accuracy', score[1]*100))\n",
        "  scores.append(score[1]*100)\n",
        "print(\"%.2f%% (+/- %.2f%%)\" % (np.mean(scores), np.std(scores)))"
      ],
      "execution_count": 35,
      "outputs": [
        {
          "output_type": "stream",
          "text": [
            "Accuracy: 96.63%\n",
            "Accuracy: 96.23%\n",
            "Accuracy: 96.51%\n",
            "Accuracy: 96.39%\n",
            "Accuracy: 96.75%\n",
            "96.50% (+/- 0.18%)\n"
          ],
          "name": "stdout"
        }
      ]
    },
    {
      "cell_type": "code",
      "metadata": {
        "id": "iRqLZdvjfALM",
        "colab_type": "code",
        "outputId": "b7de3bbe-c793-4817-a7b1-4e2307e1c48e",
        "colab": {
          "base_uri": "https://localhost:8080/",
          "height": 289
        }
      },
      "source": [
        "model = tf.keras.Sequential([\n",
        "    tf.keras.layers.Embedding(vocab_size, embedding_dim, input_length=max_length),\n",
        "    tf.keras.layers.Flatten(),\n",
        "    tf.keras.layers.Dense(6, activation='relu'),\n",
        "    tf.keras.layers.Dense(4, activation='softmax')\n",
        "])\n",
        "model.compile(loss='sparse_categorical_crossentropy',optimizer='adam',metrics=['accuracy'])\n",
        "model.summary()"
      ],
      "execution_count": 36,
      "outputs": [
        {
          "output_type": "stream",
          "text": [
            "Model: \"sequential_5\"\n",
            "_________________________________________________________________\n",
            "Layer (type)                 Output Shape              Param #   \n",
            "=================================================================\n",
            "embedding_5 (Embedding)      (None, 5, 16)             40000     \n",
            "_________________________________________________________________\n",
            "flatten_5 (Flatten)          (None, 80)                0         \n",
            "_________________________________________________________________\n",
            "dense_10 (Dense)             (None, 6)                 486       \n",
            "_________________________________________________________________\n",
            "dense_11 (Dense)             (None, 4)                 28        \n",
            "=================================================================\n",
            "Total params: 40,514\n",
            "Trainable params: 40,514\n",
            "Non-trainable params: 0\n",
            "_________________________________________________________________\n"
          ],
          "name": "stdout"
        }
      ]
    },
    {
      "cell_type": "code",
      "metadata": {
        "id": "emL648aYgdEN",
        "colab_type": "code",
        "colab": {}
      },
      "source": [
        "r = model.fit(padded, y_train, epochs=num_epochs,verbose=0,validation_data=(val_padded,y_val))"
      ],
      "execution_count": 0,
      "outputs": []
    },
    {
      "cell_type": "markdown",
      "metadata": {
        "id": "rrrPKUrsp4EB",
        "colab_type": "text"
      },
      "source": [
        "**Plotting Training Loss and Accuracy**"
      ]
    },
    {
      "cell_type": "code",
      "metadata": {
        "id": "5JUPnfa6nndB",
        "colab_type": "code",
        "outputId": "95b37d7b-cbc3-4506-e748-cf11f1865e7f",
        "colab": {
          "base_uri": "https://localhost:8080/",
          "height": 295
        }
      },
      "source": [
        "sns.lineplot(x=range(1,num_epochs+1),y=r.history['loss'])\n",
        "sns.lineplot(x=range(1,num_epochs+1),y=r.history['val_loss'])\n",
        "plt.title('Model Cross Entropy Loss')\n",
        "plt.ylabel('Cross Entropy Loss')\n",
        "plt.xlabel('Epochs')\n",
        "plt.legend(['Training', 'Testing'], loc='upper left')\n",
        "plt.show()"
      ],
      "execution_count": 38,
      "outputs": [
        {
          "output_type": "display_data",
          "data": {
            "image/png": "[encoded data removed]",
            "text/plain": [
              "<Figure size 432x288 with 1 Axes>"
            ]
          },
          "metadata": {
            "tags": []
          }
        }
      ]
    },
    {
      "cell_type": "code",
      "metadata": {
        "id": "oAaNKmmlo2It",
        "colab_type": "code",
        "outputId": "58425c6e-8042-484c-e0f6-6a78d332369f",
        "colab": {
          "base_uri": "https://localhost:8080/",
          "height": 295
        }
      },
      "source": [
        "sns.lineplot(x=range(1,num_epochs+1),y=r.history['accuracy'])\n",
        "sns.lineplot(x=range(1,num_epochs+1),y=r.history['val_accuracy'])\n",
        "plt.title('Model Accuracy')\n",
        "plt.ylabel('Accuracy')\n",
        "plt.xlabel('Epochs')\n",
        "plt.legend(['Training','Testing'], loc='upper left')\n",
        "plt.show()"
      ],
      "execution_count": 39,
      "outputs": [
        {
          "output_type": "display_data",
          "data": {
            "image/png": "[encoded data removed]",
            "text/plain": [
              "<Figure size 432x288 with 1 Axes>"
            ]
          },
          "metadata": {
            "tags": []
          }
        }
      ]
    },
    {
      "cell_type": "markdown",
      "metadata": {
        "id": "P7V5pyAVqNLz",
        "colab_type": "text"
      },
      "source": [
        "**Plotting the Confusion Matrix**"
      ]
    },
    {
      "cell_type": "code",
      "metadata": {
        "id": "we--oA3Ipd8a",
        "colab_type": "code",
        "outputId": "265477e9-2cf3-4c26-b9dd-3dd6cf18a104",
        "colab": {
          "base_uri": "https://localhost:8080/",
          "height": 269
        }
      },
      "source": [
        "y_pred = model.predict(testing_padded).argmax(axis=1)\n",
        "cm = confusion_matrix(y_pred=y_pred, y_true=y_test)\n",
        "    \n",
        "cm = cm.astype('float') / cm.sum(axis=1)[:, np.newaxis]\n",
        "    \n",
        "ax=sns.heatmap(cm, annot=True, xticklabels=['Ports','Vessels','Companies','Dates'], yticklabels=['Ports','Vessels','Companies','Dates'], cmap='Blues')\n",
        "ax.set_ylim(4.0, 0)\n",
        "plt.show()"
      ],
      "execution_count": 42,
      "outputs": [
        {
          "output_type": "display_data",
          "data": {
            "image/png": "[encoded data removed]",
            "text/plain": [
              "<Figure size 432x288 with 2 Axes>"
            ]
          },
          "metadata": {
            "tags": []
          }
        }
      ]
    },
    {
      "cell_type": "markdown",
      "metadata": {
        "id": "HZLY-rvECbMv",
        "colab_type": "text"
      },
      "source": [
        "**Print Classification Report**"
      ]
    },
    {
      "cell_type": "code",
      "metadata": {
        "id": "4CK96XxBpndB",
        "colab_type": "code",
        "colab": {}
      },
      "source": [
        "print(classification_report(y_true= y_test, y_pred = y_pred))"
      ],
      "execution_count": 0,
      "outputs": []
    },
    {
      "cell_type": "markdown",
      "metadata": {
        "id": "DjXYo0B4M06O",
        "colab_type": "text"
      },
      "source": [
        "**Deep Learning (RNNs)**"
      ]
    },
    {
      "cell_type": "markdown",
      "metadata": {
        "id": "EDtKt6nwNhaI",
        "colab_type": "text"
      },
      "source": [
        "Adding a bidirectional LSTM layer to see the impact on the model and cross validation scores"
      ]
    },
    {
      "cell_type": "markdown",
      "metadata": {
        "id": "tuhqgPatlWID",
        "colab_type": "text"
      },
      "source": [
        "**Cross Validation with LSTM**"
      ]
    },
    {
      "cell_type": "code",
      "metadata": {
        "id": "hJbzO2wW3EYY",
        "colab_type": "code",
        "colab": {}
      },
      "source": [
        "num_epochs = 10"
      ],
      "execution_count": 0,
      "outputs": []
    },
    {
      "cell_type": "code",
      "metadata": {
        "id": "pa_986YDLVtE",
        "colab_type": "code",
        "outputId": "60388695-dc0a-43e0-dfc8-179efaaef7b5",
        "colab": {
          "base_uri": "https://localhost:8080/",
          "height": 119
        }
      },
      "source": [
        "scores = []\n",
        "for train, test in kfold.split(padded, y_train):\n",
        "  model = tf.keras.Sequential([\n",
        "    tf.keras.layers.Embedding(vocab_size, embedding_dim, input_length=max_length),\n",
        "    tf.keras.layers.Bidirectional(tf.keras.layers.LSTM(32, return_sequences=True)),\n",
        "    tf.keras.layers.Bidirectional(tf.keras.layers.LSTM(16)),\n",
        "    tf.keras.layers.Dropout(0.5),\n",
        "    tf.keras.layers.Dense(32, activation='relu'),\n",
        "    tf.keras.layers.Dense(16, activation='relu'),\n",
        "    tf.keras.layers.Dropout(0.5),\n",
        "    tf.keras.layers.Dense(8, activation='relu'),\n",
        "    tf.keras.layers.Dense(4, activation='softmax')])\n",
        "  model.compile(loss='sparse_categorical_crossentropy',optimizer='adam',metrics=['accuracy'])\n",
        "  model.fit(padded[train], y_train[train], epochs=num_epochs, verbose=0)\n",
        "  score = model.evaluate(padded[test], y_train[test], verbose=0)\n",
        "  print(\"%s: %.2f%%\" % ('Accuracy', score[1]*100))\n",
        "  scores.append(score[1]*100)\n",
        "print(\"%.2f%% (+/- %.2f%%)\" % (np.mean(scores), np.std(scores)))"
      ],
      "execution_count": 110,
      "outputs": [
        {
          "output_type": "stream",
          "text": [
            "Accuracy: 96.25%\n",
            "Accuracy: 96.32%\n",
            "Accuracy: 96.66%\n",
            "Accuracy: 95.72%\n",
            "Accuracy: 96.49%\n",
            "96.29% (+/- 0.32%)\n"
          ],
          "name": "stdout"
        }
      ]
    },
    {
      "cell_type": "markdown",
      "metadata": {
        "id": "4NBInSsclgMM",
        "colab_type": "text"
      },
      "source": [
        "**Predicting on Test Data**"
      ]
    },
    {
      "cell_type": "code",
      "metadata": {
        "id": "Mk3j4UOvkTkz",
        "colab_type": "code",
        "outputId": "8c23cfdd-d95c-462b-8c2c-361d5d91ce3b",
        "colab": {
          "base_uri": "https://localhost:8080/",
          "height": 459
        }
      },
      "source": [
        "model = tf.keras.Sequential([\n",
        "    tf.keras.layers.Embedding(vocab_size, embedding_dim, input_length=max_length),\n",
        "    tf.keras.layers.Bidirectional(tf.keras.layers.LSTM(32, return_sequences=True)),\n",
        "    tf.keras.layers.Bidirectional(tf.keras.layers.LSTM(16)),\n",
        "    tf.keras.layers.Dropout(0.5),\n",
        "    tf.keras.layers.Dense(32, activation='relu'),\n",
        "    tf.keras.layers.Dense(16, activation='relu'),\n",
        "    tf.keras.layers.Dropout(0.5),\n",
        "    tf.keras.layers.Dense(8, activation='relu'),\n",
        "    tf.keras.layers.Dense(4, activation='softmax')])\n",
        "model.compile(loss='sparse_categorical_crossentropy',optimizer='adam',metrics=['accuracy'])\n",
        "model.summary()"
      ],
      "execution_count": 104,
      "outputs": [
        {
          "output_type": "stream",
          "text": [
            "Model: \"sequential_16\"\n",
            "_________________________________________________________________\n",
            "Layer (type)                 Output Shape              Param #   \n",
            "=================================================================\n",
            "embedding_16 (Embedding)     (None, 5, 16)             40000     \n",
            "_________________________________________________________________\n",
            "bidirectional_4 (Bidirection (None, 5, 64)             12544     \n",
            "_________________________________________________________________\n",
            "bidirectional_5 (Bidirection (None, 32)                10368     \n",
            "_________________________________________________________________\n",
            "dropout_16 (Dropout)         (None, 32)                0         \n",
            "_________________________________________________________________\n",
            "dense_46 (Dense)             (None, 32)                1056      \n",
            "_________________________________________________________________\n",
            "dense_47 (Dense)             (None, 16)                528       \n",
            "_________________________________________________________________\n",
            "dropout_17 (Dropout)         (None, 16)                0         \n",
            "_________________________________________________________________\n",
            "dense_48 (Dense)             (None, 8)                 136       \n",
            "_________________________________________________________________\n",
            "dense_49 (Dense)             (None, 4)                 36        \n",
            "=================================================================\n",
            "Total params: 64,668\n",
            "Trainable params: 64,668\n",
            "Non-trainable params: 0\n",
            "_________________________________________________________________\n"
          ],
          "name": "stdout"
        }
      ]
    },
    {
      "cell_type": "code",
      "metadata": {
        "id": "GwCNa1QVkcWA",
        "colab_type": "code",
        "colab": {}
      },
      "source": [
        "r = model.fit(padded, y_train, epochs=num_epochs,verbose=0,validation_data=(val_padded,y_val))"
      ],
      "execution_count": 0,
      "outputs": []
    },
    {
      "cell_type": "markdown",
      "metadata": {
        "id": "IRembiEVmbyy",
        "colab_type": "text"
      },
      "source": [
        "**Plotting Loss and Accuracy**"
      ]
    },
    {
      "cell_type": "code",
      "metadata": {
        "id": "qU3ecqs3mWNR",
        "colab_type": "code",
        "outputId": "0c0515e4-441d-4145-d99b-d50e30ad0a5a",
        "colab": {
          "base_uri": "https://localhost:8080/",
          "height": 295
        }
      },
      "source": [
        "sns.lineplot(x=range(1,num_epochs+1),y=r.history['loss'])\n",
        "sns.lineplot(x=range(1,num_epochs+1),y=r.history['val_loss'])\n",
        "plt.title('Model Cross Entropy Loss')\n",
        "plt.ylabel('Cross Entropy Loss')\n",
        "plt.xlabel('Epochs')\n",
        "plt.legend(['Training','Testing'], loc='upper left')\n",
        "plt.show()"
      ],
      "execution_count": 106,
      "outputs": [
        {
          "output_type": "display_data",
          "data": {
            "image/png": "[encoded data removed]",
            "text/plain": [
              "<Figure size 432x288 with 1 Axes>"
            ]
          },
          "metadata": {
            "tags": []
          }
        }
      ]
    },
    {
      "cell_type": "code",
      "metadata": {
        "id": "17FQjWWypDin",
        "colab_type": "code",
        "outputId": "5460f8a0-dd0b-452a-c8c8-903086546f3c",
        "colab": {
          "base_uri": "https://localhost:8080/",
          "height": 295
        }
      },
      "source": [
        "sns.lineplot(x=range(1,num_epochs+1),y=r.history['accuracy'])\n",
        "sns.lineplot(x=range(1,num_epochs+1),y=r.history['val_accuracy'])\n",
        "plt.title('Model Accuracy')\n",
        "plt.ylabel('Accuracy')\n",
        "plt.xlabel('Epochs')\n",
        "plt.legend(['Training', 'Testing'], loc='upper left')\n",
        "plt.show()"
      ],
      "execution_count": 107,
      "outputs": [
        {
          "output_type": "display_data",
          "data": {
            "image/png": "[encoded data removed]",
            "text/plain": [
              "<Figure size 432x288 with 1 Axes>"
            ]
          },
          "metadata": {
            "tags": []
          }
        }
      ]
    },
    {
      "cell_type": "markdown",
      "metadata": {
        "id": "J8dt9gzbBm77",
        "colab_type": "text"
      },
      "source": [
        "**Plotting Confusion Matrix**"
      ]
    },
    {
      "cell_type": "code",
      "metadata": {
        "id": "kO3gUrnYN7Xh",
        "colab_type": "code",
        "outputId": "526fc742-f1dc-4a7f-c199-ad235b299e44",
        "colab": {
          "base_uri": "https://localhost:8080/",
          "height": 269
        }
      },
      "source": [
        "y_pred = model.predict(testing_padded).argmax(axis=1)\n",
        "cm = confusion_matrix(y_pred=y_pred, y_true=y_test)\n",
        "    \n",
        "cm = cm.astype('float') / cm.sum(axis=1)[:, np.newaxis]\n",
        "    \n",
        "ax=sns.heatmap(cm, annot=True, xticklabels=['Ports','Vessels','Companies','Dates'], yticklabels=['Ports','Vessels','Companies','Dates'], cmap='Blues')\n",
        "ax.set_ylim(4.0, 0)\n",
        "plt.show()"
      ],
      "execution_count": 108,
      "outputs": [
        {
          "output_type": "display_data",
          "data": {
            "image/png": "[encoded data removed]",
            "text/plain": [
              "<Figure size 432x288 with 2 Axes>"
            ]
          },
          "metadata": {
            "tags": []
          }
        }
      ]
    },
    {
      "cell_type": "markdown",
      "metadata": {
        "id": "UCuWS0OiCCoF",
        "colab_type": "text"
      },
      "source": [
        "**Print Classification Report**"
      ]
    },
    {
      "cell_type": "code",
      "metadata": {
        "id": "P_LkuFC0CBXj",
        "colab_type": "code",
        "outputId": "7f33753b-ea01-41ff-eb5f-8bafafa6cffe",
        "colab": {
          "base_uri": "https://localhost:8080/",
          "height": 204
        }
      },
      "source": [
        "print(classification_report(y_true= y_test, y_pred = y_pred))"
      ],
      "execution_count": 109,
      "outputs": [
        {
          "output_type": "stream",
          "text": [
            "              precision    recall  f1-score   support\n",
            "\n",
            "           0       0.89      0.99      0.94       520\n",
            "           1       1.00      0.97      0.98       520\n",
            "           2       0.99      0.91      0.95       520\n",
            "           3       1.00      1.00      1.00       520\n",
            "\n",
            "    accuracy                           0.97      2080\n",
            "   macro avg       0.97      0.97      0.97      2080\n",
            "weighted avg       0.97      0.97      0.97      2080\n",
            "\n"
          ],
          "name": "stdout"
        }
      ]
    },
    {
      "cell_type": "markdown",
      "metadata": {
        "id": "B7hVuMeSsCzQ",
        "colab_type": "text"
      },
      "source": [
        "**Deep Learning (CNNs)**"
      ]
    },
    {
      "cell_type": "markdown",
      "metadata": {
        "id": "Uu1S5dnwBve_",
        "colab_type": "text"
      },
      "source": [
        "**Cross Validation**"
      ]
    },
    {
      "cell_type": "code",
      "metadata": {
        "id": "Yj_FfyrtkejA",
        "colab_type": "code",
        "colab": {}
      },
      "source": [
        "num_epochs = 40"
      ],
      "execution_count": 0,
      "outputs": []
    },
    {
      "cell_type": "code",
      "metadata": {
        "id": "Xyc7Ck37pYRn",
        "colab_type": "code",
        "colab": {}
      },
      "source": [
        "scores = []\n",
        "for train, test in kfold.split(padded, y_train):\n",
        "  model = tf.keras.Sequential([\n",
        "    tf.keras.layers.Embedding(vocab_size, embedding_dim, input_length=max_length),\n",
        "    tf.keras.layers.Dropout(0.4),\n",
        "    tf.keras.layers.Conv1D(64, 2, activation='relu'),\n",
        "    tf.keras.layers.MaxPooling1D(pool_size=2),\n",
        "    tf.keras.layers.Flatten(),\n",
        "    tf.keras.layers.Dense(16, activation='relu'),\n",
        "    tf.keras.layers.Dropout(0.2),\n",
        "    tf.keras.layers.Dense(8, activation='relu'),\n",
        "    tf.keras.layers.Dense(4, activation='softmax')])\n",
        "  model.compile(loss='sparse_categorical_crossentropy',optimizer='adam',metrics=['accuracy'])\n",
        "  model.fit(padded[train], y_train[train], epochs=num_epochs, verbose=0)\n",
        "  score = model.evaluate(padded[test], y_train[test], verbose=0)\n",
        "  print(\"%s: %.2f%%\" % ('Accuracy', score[1]*100))\n",
        "  scores.append(score[1]*100)\n",
        "print(\"%.2f%% (+/- %.2f%%)\" % (np.mean(scores), np.std(scores)))"
      ],
      "execution_count": 0,
      "outputs": []
    },
    {
      "cell_type": "markdown",
      "metadata": {
        "id": "ZCaYcnqACM8u",
        "colab_type": "text"
      },
      "source": [
        "**Predicting on Test Data**"
      ]
    },
    {
      "cell_type": "code",
      "metadata": {
        "id": "jsVGjeTTOU0r",
        "colab_type": "code",
        "outputId": "adece4af-822b-4402-92c7-98de830efcf7",
        "colab": {
          "base_uri": "https://localhost:8080/",
          "height": 459
        }
      },
      "source": [
        "model = tf.keras.Sequential([\n",
        "    tf.keras.layers.Embedding(vocab_size, embedding_dim, input_length=max_length),\n",
        "    tf.keras.layers.Dropout(0.5),\n",
        "    tf.keras.layers.Conv1D(64, 2, activation='relu'),\n",
        "    tf.keras.layers.MaxPooling1D(pool_size=2),\n",
        "    tf.keras.layers.Flatten(),\n",
        "    tf.keras.layers.Dense(16, activation='relu'),\n",
        "    tf.keras.layers.Dropout(0.5),\n",
        "    tf.keras.layers.Dense(8, activation='relu'),\n",
        "    tf.keras.layers.Dense(4, activation='softmax')])\n",
        "model.compile(loss='sparse_categorical_crossentropy',optimizer='adam',metrics=['accuracy'])\n",
        "model.summary()"
      ],
      "execution_count": 98,
      "outputs": [
        {
          "output_type": "stream",
          "text": [
            "Model: \"sequential_15\"\n",
            "_________________________________________________________________\n",
            "Layer (type)                 Output Shape              Param #   \n",
            "=================================================================\n",
            "embedding_15 (Embedding)     (None, 5, 16)             40000     \n",
            "_________________________________________________________________\n",
            "dropout_14 (Dropout)         (None, 5, 16)             0         \n",
            "_________________________________________________________________\n",
            "conv1d_5 (Conv1D)            (None, 4, 64)             2112      \n",
            "_________________________________________________________________\n",
            "max_pooling1d_5 (MaxPooling1 (None, 2, 64)             0         \n",
            "_________________________________________________________________\n",
            "flatten_11 (Flatten)         (None, 128)               0         \n",
            "_________________________________________________________________\n",
            "dense_43 (Dense)             (None, 16)                2064      \n",
            "_________________________________________________________________\n",
            "dropout_15 (Dropout)         (None, 16)                0         \n",
            "_________________________________________________________________\n",
            "dense_44 (Dense)             (None, 8)                 136       \n",
            "_________________________________________________________________\n",
            "dense_45 (Dense)             (None, 4)                 36        \n",
            "=================================================================\n",
            "Total params: 44,348\n",
            "Trainable params: 44,348\n",
            "Non-trainable params: 0\n",
            "_________________________________________________________________\n"
          ],
          "name": "stdout"
        }
      ]
    },
    {
      "cell_type": "code",
      "metadata": {
        "id": "Q8AMjHQwm-3V",
        "colab_type": "code",
        "colab": {}
      },
      "source": [
        "r = model.fit(padded, y_train, epochs=num_epochs,verbose=0,validation_data=(val_padded,y_val))"
      ],
      "execution_count": 0,
      "outputs": []
    },
    {
      "cell_type": "markdown",
      "metadata": {
        "id": "11sDeXIMBegw",
        "colab_type": "text"
      },
      "source": [
        "**Plotting Loss and Accuracy**"
      ]
    },
    {
      "cell_type": "code",
      "metadata": {
        "id": "d_NISMvIo7Az",
        "colab_type": "code",
        "outputId": "cf371f60-685d-4e6c-c3ba-702667e1c106",
        "colab": {
          "base_uri": "https://localhost:8080/",
          "height": 295
        }
      },
      "source": [
        "sns.lineplot(x=range(1,num_epochs+1),y=r.history['loss'])\n",
        "sns.lineplot(x=range(1,num_epochs+1),y=r.history['val_loss'])\n",
        "plt.title('Model Cross Entropy Loss')\n",
        "plt.ylabel('Cross Entropy Loss')\n",
        "plt.xlabel('Epochs')\n",
        "plt.legend(['Training', 'Testing'], loc='upper left')\n",
        "plt.show()"
      ],
      "execution_count": 100,
      "outputs": [
        {
          "output_type": "display_data",
          "data": {
            "image/png": "[encoded data removed]",
            "text/plain": [
              "<Figure size 432x288 with 1 Axes>"
            ]
          },
          "metadata": {
            "tags": []
          }
        }
      ]
    },
    {
      "cell_type": "code",
      "metadata": {
        "id": "PJipbqRIpFQO",
        "colab_type": "code",
        "outputId": "d67baf8b-20c7-43a6-cebc-819c1bf11a59",
        "colab": {
          "base_uri": "https://localhost:8080/",
          "height": 295
        }
      },
      "source": [
        "sns.lineplot(x=range(1,num_epochs+1),y=r.history['accuracy'])\n",
        "sns.lineplot(x=range(1,num_epochs+1),y=r.history['val_accuracy'])\n",
        "plt.title('Model Accuracy')\n",
        "plt.ylabel('Accuracy')\n",
        "plt.xlabel('Epochs')\n",
        "plt.legend(['Training', 'Testing'], loc='upper left')\n",
        "plt.show()"
      ],
      "execution_count": 101,
      "outputs": [
        {
          "output_type": "display_data",
          "data": {
            "image/png": "[encoded data removed]",
            "text/plain": [
              "<Figure size 432x288 with 1 Axes>"
            ]
          },
          "metadata": {
            "tags": []
          }
        }
      ]
    },
    {
      "cell_type": "markdown",
      "metadata": {
        "id": "y0NcOYJGB6ri",
        "colab_type": "text"
      },
      "source": [
        "**Plotting Confusion Matrix**"
      ]
    },
    {
      "cell_type": "code",
      "metadata": {
        "id": "W6OtvoQSoB8p",
        "colab_type": "code",
        "outputId": "99e7edda-1949-4f13-b3a1-10ddfa98932c",
        "colab": {
          "base_uri": "https://localhost:8080/",
          "height": 269
        }
      },
      "source": [
        "y_pred = model.predict(testing_padded).argmax(axis=1)\n",
        "cm = confusion_matrix(y_pred=y_pred, y_true=y_test)\n",
        "    \n",
        "cm = cm.astype('float') / cm.sum(axis=1)[:, np.newaxis]\n",
        "    \n",
        "ax=sns.heatmap(cm, annot=True, xticklabels=['Ports','Vessels','Companies','Dates'], yticklabels=['Ports','Vessels','Companies','Dates'], cmap='Blues')\n",
        "ax.set_ylim(4.0, 0)\n",
        "plt.show()"
      ],
      "execution_count": 102,
      "outputs": [
        {
          "output_type": "display_data",
          "data": {
            "image/png": "[encoded data removed]",
            "text/plain": [
              "<Figure size 432x288 with 2 Axes>"
            ]
          },
          "metadata": {
            "tags": []
          }
        }
      ]
    },
    {
      "cell_type": "markdown",
      "metadata": {
        "id": "_BSiHeV5B0Oc",
        "colab_type": "text"
      },
      "source": [
        "**Print Classification Report**"
      ]
    },
    {
      "cell_type": "code",
      "metadata": {
        "id": "FltrFheLos9y",
        "colab_type": "code",
        "outputId": "22e9f9d7-75fc-42da-b480-085943d63a5b",
        "colab": {
          "base_uri": "https://localhost:8080/",
          "height": 204
        }
      },
      "source": [
        "print(classification_report(y_true= y_test, y_pred = y_pred))"
      ],
      "execution_count": 103,
      "outputs": [
        {
          "output_type": "stream",
          "text": [
            "              precision    recall  f1-score   support\n",
            "\n",
            "           0       0.88      1.00      0.93       520\n",
            "           1       1.00      0.96      0.98       520\n",
            "           2       0.99      0.89      0.94       520\n",
            "           3       1.00      1.00      1.00       520\n",
            "\n",
            "    accuracy                           0.96      2080\n",
            "   macro avg       0.97      0.96      0.96      2080\n",
            "weighted avg       0.97      0.96      0.96      2080\n",
            "\n"
          ],
          "name": "stdout"
        }
      ]
    },
    {
      "cell_type": "code",
      "metadata": {
        "id": "4k3bmrEfNFuP",
        "colab_type": "code",
        "colab": {}
      },
      "source": [
        ""
      ],
      "execution_count": 0,
      "outputs": []
    }
  ]
}